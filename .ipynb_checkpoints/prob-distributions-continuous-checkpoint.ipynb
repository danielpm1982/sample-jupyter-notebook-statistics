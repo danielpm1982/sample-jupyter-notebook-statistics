{
 "cells": [
  {
   "cell_type": "markdown",
   "id": "f18e31c0-e87f-4be9-ab18-212e3cbe8bd2",
   "metadata": {},
   "source": [
    "## These are examples of how to use pobability distributions for quantitative continuous data, including normal, standard normal, chi-square, Student's t and Fisher–Snedecor distributions, with Python, Pandas, NumPy and Matplotlib"
   ]
  },
  {
   "cell_type": "markdown",
   "id": "5de39126-06aa-430f-92ea-a20aa8e3cad9",
   "metadata": {},
   "source": [
    "* the formulas shown at this notebook have been taken from the following reference (and from Wikipedia):<br>\n",
    "FÁVERO, L. P.; BELFIORE, P. **Manual de Análise de Dados: Estatística e Machine Learning com Excel®, SPSS®, Stata®, R® e Python®**. 2ª edição, 1288 p. Brasil: ccGEN LTC, 2024.<br>\n",
    "Available in Brazil at:<br>\n",
    "https://www.amazon.com.br/Manual-An-C3-A1lise-Dados-Estat-C3-ADstica-Learning-dp-8595159920/dp/8595159920"
   ]
  },
  {
   "cell_type": "code",
   "execution_count": 2,
   "id": "c5fedcab-dc4d-45ef-b2ff-015fa6d7c856",
   "metadata": {},
   "outputs": [],
   "source": [
    "# importing libs and setting default plot style\n",
    "%matplotlib inline\n",
    "import matplotlib.pyplot as plt\n",
    "plt.style.use(\"dark_background\")\n",
    "import pandas as pd\n",
    "import numpy as np\n",
    "from statistics import NormalDist\n",
    "from scipy import stats\n",
    "from functools import reduce\n",
    "import math"
   ]
  },
  {
   "cell_type": "markdown",
   "id": "1f389ee5-1f67-4ec2-b667-2e5cf054c745",
   "metadata": {},
   "source": [
    "### Normal (x) and Standard Normal (z-score) Distribution"
   ]
  },
  {
   "cell_type": "code",
   "execution_count": 3,
   "id": "9269bbc3-54ff-4179-bedf-6c31dccc2d86",
   "metadata": {},
   "outputs": [],
   "source": [
    "# we have a normal distribution when the density curve of our distribution is symetric, that is, when all mean, median\n",
    "# and mode are centered (skewness is always 0), and half of the distribution goes on the left and the other half goes on \n",
    "# the right. No only that, we can quantify the distance to the mean by the variance or standard deviation. Empirical rule: \n",
    "# for +- 1 standard deviantion around the mean, we have 68.26% of values; for +- 2 standard deviations around the mean we \n",
    "# have 95.44% of values; and for +- 3 standard deviations around the mean, we have 99.74% of values. This curve/distribution \n",
    "# is called Gaussian curve/distribution or Bell curve. Most natural occuring distributions, which depend on a great number of \n",
    "# samples, get close to a Gauss Distribution, and regression and predictive methods can be applied through them. For a better \n",
    "# visualization, normal distributions can be adapted to standard normal distributions, with a center mean z = 0 and \n",
    "# standard deviations of exactly 1 - differently from the normal distribution, in which the mean and standard deviation \n",
    "# can be any real-number value. The transformation is done by transforming individual x values into z-score values, by\n",
    "# the formula z-score = (x(i) - mean)/sd, so that, then, the x-axis is constituted by each z-score - instead of x(i) - and\n",
    "# the y-axis keeps being the probability for that z-score point (and respective original x(i) point). Normal distributions are \n",
    "# important in statistics and are often used in the natural and social sciences to represent real-valued random variables whose \n",
    "# distributions are not known.Their importance is partly due to the central limit theorem. It states that, under some conditions, \n",
    "# the average of many samples (observations) of a random variable with finite mean and variance is itself a random variable — \n",
    "# whose distribution converges to a normal distribution as the number of samples increases. Therefore, physical quantities that \n",
    "# are expected to be the sum of many independent processes, such as measurement errors, often have distributions that are nearly \n",
    "# normal. Moreover, Gaussian distributions have some unique properties that are valuable in analytic studies. For instance, any \n",
    "# linear combination of a fixed collection of independent normal deviates is a normal deviate. Many results and methods, such as \n",
    "# propagation of uncertainty and least squares parameter fitting, can be derived analytically in explicit form when the relevant \n",
    "# variables are normally distributed."
   ]
  },
  {
   "cell_type": "markdown",
   "id": "1a8fb49e-61aa-433a-aa16-c7d69992a700",
   "metadata": {},
   "source": [
    "![normal](normal.png) ![z-score](z-score.png) ![std-normal](std-normal.png) ![std_normal_cumulative](std_normal_cumulative.png)"
   ]
  },
  {
   "cell_type": "code",
   "execution_count": 4,
   "id": "16e10e36-3649-4bb6-a375-905862a2230a",
   "metadata": {},
   "outputs": [
    {
     "name": "stdout",
     "output_type": "stream",
     "text": [
      "A - the corresponding z-score for x=0.04 is: z=1.0. Its corresponding cumulated probability is: 0.8413447460685429, for percents equal or lower than that z-score or respective x(i). Its corresponding probability complement is: 0.15865525393145707, for percents higher than that z-score or respective x(i). Response: 15.87%.\n",
      "B - the corresponding z-score for x=0.03 is: z=0.16666666666666652. Its corresponding cumulated probability is: 0.5661838326109035, for percents equal or lower than that z-score or respective x(i). Response: 56.62%.\n",
      "C - the corresponding z-score for x=0 is: z=-2.3333333333333335. Its corresponding cumulated probability is: 0.009815328628645334, for percents equal or lower than that z-score or respective x(i). Response: 0.98%.\n",
      "D - the corresponding limit z-scores for the interval between x=0.01 and x=0.05 are: z=-1.5000000000000002 and x=1.8333333333333335. The cumulated probability for percents between that interval is: 0.8998162911463247. Response: 89.98%.\n"
     ]
    }
   ],
   "source": [
    "# Case: the monthly average stock market return for a publicly listed company in Nasdaq has been, in average, 2.8%, with \n",
    "# a standard deviation of 1.2%. Based on that, it is asked, about the same stock:\n",
    "\n",
    "# A - the probability that the return is greater than 4% in a month;\n",
    "# B - the probability that the return is lower than 3% in a month;\n",
    "# C - the probability that the return is negative in a month;\n",
    "# D - the probability that the return is greater than 1% and less than 5% in a month;\n",
    "\n",
    "my_normal_mean = 0.028\n",
    "my_normal_sd = 0.012\n",
    "\n",
    "# defining a function to calculate z-scores from x(i) values, means and standard deviations of normal distributions\n",
    "def calculate_z_from_x_normal(normal_x,normal_mean, normal_sd):\n",
    "    return (normal_x-normal_mean)/normal_sd\n",
    "\n",
    "# defining a function to calculate the probability density function value for a given z, cumulative to that point ]-infinite, z]\n",
    "# this gives the cumulated probability for values equal or less than z. For values more than z, use the complement \"1-the_function_below\"\n",
    "def calculate_prob_from_z_cumulative(std_normal_z):\n",
    "    return stats.norm.cdf(std_normal_z)\n",
    "\n",
    "# defining a function to calculate the probability density function value for a given z, not cummulative (for z, individually)\n",
    "def calculate_prob_from_z_not_cumulative(std_normal_z):\n",
    "    return stats.norm.pdf(std_normal_z)\n",
    "\n",
    "# defining a function to calculate the probability density function value for a given x, mean and sd, not cummulative (for x, individually)\n",
    "# this function below would be useful to calculate the pdf for a specific point x(i), which is not requested here, as here what is asked is\n",
    "# the cumulative probability until point x(i) or above point x(i), that is, the integration of probabilities until or above that x(i) point.\n",
    "# Instead of manually calculating the integral, we preferred transforming x(i), mean and sd into z-scores and then using the stats.norm.pdf()\n",
    "# already available function.\n",
    "def calculate_prob_from_x_not_cumulative(normal_x, normal_mean, normal_sd):\n",
    "    return 1/(normal_sd*math.sqrt(2*math.pi))*math.exp(-1/2*math.pow((normal_x-normal_mean),2)/normal_sd**2)\n",
    "\n",
    "# A:\n",
    "my_normal_z_a = calculate_z_from_x_normal(0.04, my_normal_mean, my_normal_sd)\n",
    "print(f\"A - the corresponding z-score for x=0.04 is: z={my_normal_z_a}. Its corresponding cumulated probability is: {calculate_prob_from_z_cumulative(my_normal_z_a)}, for percents equal or lower than that z-score or respective x(i). Its corresponding probability complement is: {1-calculate_prob_from_z_cumulative(my_normal_z_a)}, for percents higher than that z-score or respective x(i). Response: {round((1-calculate_prob_from_z_cumulative(my_normal_z_a))*100,2)}%.\")\n",
    "\n",
    "# B:\n",
    "my_normal_z_b = calculate_z_from_x_normal(0.03, my_normal_mean, my_normal_sd)\n",
    "print(f\"B - the corresponding z-score for x=0.03 is: z={my_normal_z_b}. Its corresponding cumulated probability is: {calculate_prob_from_z_cumulative(my_normal_z_b)}, for percents equal or lower than that z-score or respective x(i). Response: {round((calculate_prob_from_z_cumulative(my_normal_z_b))*100,2)}%.\")\n",
    "\n",
    "# C:\n",
    "my_normal_z_c = calculate_z_from_x_normal(0, my_normal_mean, my_normal_sd)\n",
    "print(f\"C - the corresponding z-score for x=0 is: z={my_normal_z_c}. Its corresponding cumulated probability is: {calculate_prob_from_z_cumulative(my_normal_z_c)}, for percents equal or lower than that z-score or respective x(i). Response: {round((calculate_prob_from_z_cumulative(my_normal_z_c))*100,2)}%.\")\n",
    "\n",
    "# D:\n",
    "my_normal_z_d_1 = calculate_z_from_x_normal(0.01, my_normal_mean, my_normal_sd)\n",
    "my_normal_z_d_2 = calculate_z_from_x_normal(0.05, my_normal_mean, my_normal_sd)\n",
    "print(f\"D - the corresponding limit z-scores for the interval between x=0.01 and x=0.05 are: z={my_normal_z_d_1} and x={my_normal_z_d_2}. The cumulated probability for percents between that interval is: {calculate_prob_from_z_cumulative(my_normal_z_d_2)-calculate_prob_from_z_cumulative(my_normal_z_d_1)}. Response: {round((calculate_prob_from_z_cumulative(my_normal_z_d_2)-calculate_prob_from_z_cumulative(my_normal_z_d_1))*100,2)}%.\")\n"
   ]
  },
  {
   "cell_type": "code",
   "execution_count": 5,
   "id": "7faf3277-ca29-4ff2-8519-4145385ba574",
   "metadata": {},
   "outputs": [
    {
     "name": "stdout",
     "output_type": "stream",
     "text": [
      "     Z_SCORE  PROBABILITY\n",
      "0       -5.0     0.000001\n",
      "1       -4.9     0.000002\n",
      "2       -4.8     0.000004\n",
      "3       -4.7     0.000006\n",
      "4       -4.6     0.000010\n",
      "..       ...          ...\n",
      "96       4.6     0.000010\n",
      "97       4.7     0.000006\n",
      "98       4.8     0.000004\n",
      "99       4.9     0.000002\n",
      "100      5.0     0.000001\n",
      "\n",
      "[101 rows x 2 columns]\n",
      "\n",
      "\n"
     ]
    },
    {
     "data": {
      "image/png": "[encoded data removed]",
      "text/plain": [
       "<Figure size 640x480 with 1 Axes>"
      ]
     },
     "metadata": {},
     "output_type": "display_data"
    }
   ],
   "source": [
    "# calculating and plotting some sample z and prob(z) data in order to plot a standard normal distribution graph example (not related \n",
    "# to the data above)\n",
    "\n",
    "# creating x_axis and y_axis values lists\n",
    "z_score_x_axis_list = [-5.00,-4.90,-4.80,-4.70,-4.60,-4.50,-4.40,-4.30,-4.20,-4.10,-4.00,-3.90,-3.80,-3.70,-3.60,-3.50,-3.40,-3.30,-3.20,-3.10,-3.00,-2.90,-2.80,-2.70,-2.60,-2.50,-2.40,-2.30,-2.20,-2.10,-2.00,-1.90,-1.80,-1.70,-1.60,-1.50,-1.40,-1.30,-1.20,-1.10,-1.00,-0.90,-0.80,-0.70,-0.60,-0.50,-0.40,-0.30,-0.20,-0.10,0.00,0.10,0.20,0.30,0.40,0.50,0.60,0.70,0.80,0.90,1.00,1.10,1.20,1.30,1.40,1.50,1.60,1.70,1.80,1.90,2.00,2.10,2.20,2.30,2.40,2.50,2.60,2.70,2.80,2.90,3.00,3.10,3.20,3.30,3.40,3.50,3.60,3.70,3.80,3.90,4.00,4.10,4.20,4.30,4.40,4.50,4.60,4.70,4.80,4.90,5.00,]\n",
    "z_score_y_axis_list = list(map(calculate_prob_from_z_not_cumulative, z_score_x_axis_list))\n",
    "\n",
    "# tabulating data into a pandas dataframe\n",
    "z_score_dataframe = pd.DataFrame(columns=[\"Z_SCORE\", \"PROBABILITY\"])\n",
    "z_score_dataframe[\"Z_SCORE\"] = z_score_x_axis_list\n",
    "z_score_dataframe[\"PROBABILITY\"] = z_score_y_axis_list\n",
    "print(f\"{z_score_dataframe.loc[0:z_score_dataframe.size:1]}\\n\\n\")\n",
    "\n",
    "# plotting both axis' data into a matplotlib graph\n",
    "fig, ax = plt.subplots()\n",
    "ax.plot(z_score_x_axis_list, z_score_y_axis_list, color=\"lime\")\n",
    "ax.set_xlabel(\"Z_SCORE\", labelpad=10)\n",
    "ax.set_ylabel(\"PROBABILITY\", labelpad=10)\n",
    "ax.fill_between(x=z_score_dataframe.Z_SCORE, y1=z_score_dataframe.PROBABILITY, y2=0, color=\"fuchsia\", alpha=0.5)\n",
    "ax.axvline(0, alpha=0.5, linestyle=('--'), label=\"MEAN=MEDIAN=MODE\")\n",
    "ax.set_title(\"Standard Normal Probability Distribution\")\n",
    "plt.legend(loc=\"upper right\")\n",
    "plt.show()"
   ]
  },
  {
   "cell_type": "markdown",
   "id": "6e74c9da-26e9-4e12-b90a-da9c196c12b3",
   "metadata": {},
   "source": [
    "### Chi-square Distribution"
   ]
  },
  {
   "cell_type": "code",
   "execution_count": 6,
   "id": "aeacccb5-7419-4d80-b806-f671a539c81c",
   "metadata": {},
   "outputs": [],
   "source": [
    "# The chi-squared distribution is a positive asymmetric (skewness > 0) distribution, with k degrees of freedom, which is the result of the \n",
    "# sum of the squares of k independent standard normal random variables. The chi-squared distribution is a special case of the gamma \n",
    "# distribution and is one of the most widely used probability distributions in inferential statistics, notably in hypothesis testing and in \n",
    "# construction of confidence intervals. The chi-squared distribution is used in the common chi-squared tests for goodness of fit of an \n",
    "# observed distribution to a theoretical one, the independence of two criteria of classification of qualitative data \n",
    "# (https://github.com/danielpm1982/sample-jupyter-notebook-statistics/blob/master/chi-square.ipynb), and in finding the confidence interval \n",
    "# for estimating the population standard deviation of a normal distribution from a sample standard deviation. Many other statistical tests \n",
    "# also use this distribution, such as Friedman's analysis of variance by ranks."
   ]
  },
  {
   "cell_type": "markdown",
   "id": "3f727989-8a8a-439a-92b4-59c7f4cee189",
   "metadata": {},
   "source": [
    "![chi-square-pdf](chi-square-pdf.png) ![chi-square-cdf](chi-square-cdf.png)"
   ]
  },
  {
   "cell_type": "code",
   "execution_count": 7,
   "id": "6ed95a7e-adb3-4e84-a1ff-46d4d1e8961f",
   "metadata": {},
   "outputs": [
    {
     "name": "stdout",
     "output_type": "stream",
     "text": [
      "A - the cumulated probability for x>6 (right tail) is: 0.539749350395557. Response: 53.97%.\n",
      "B - the cumulated probability for x<8 (left tail) is: 0.6674060974006919. Response: 66.74%.\n",
      "C - the x value so that the cumulated probability above it is 5% (right tail prob) is: 14.067140449340169. Response: X = 14.07.\n",
      "D - the x value so that the cumulated probability below it is 90% (left tail prob) is: 12.017036623780532. Response: X = 12.02.\n"
     ]
    }
   ],
   "source": [
    "# Case: a scholar has concluded that one of his research tests must be evaluated according to a chi-square distribution, with 7 degrees of \n",
    "# freedom. In such a context, calculate:\n",
    "# A - the probability that, at that test, he finds an X>6\n",
    "# B - the probability that, at that test, he finds an X<8\n",
    "# C - the x value that makes the probability P(X>x) be 5%, that is, for what x value he would have 5% of getting values above that x\n",
    "# D - the x value that makes the probability P(X<x) be 90%, that is, for what x value he would have 90% of getting values below that x\n",
    "\n",
    "DEGREES_OF_FREEDOM = 7\n",
    "\n",
    "# defining a function to calculate the cumulative probability at a certain chi-square x value (left tail)\n",
    "def calculate_prob_from_chi_square_x_cumulative(chi_square_x, degrees_of_freedom):\n",
    "    return stats.chi2.cdf(chi_square_x, degrees_of_freedom)\n",
    "\n",
    "# defining a function to calculate the inverse of cdf(), that is, the critical chi-square value for the complement of the confidence level\n",
    "# desired (1-right_tail prob = left_tail prob)\n",
    "def calculate_x_chi_square_value_for_prob_cumulative(left_tail_prob, degrees_of_freedom):\n",
    "    return stats.chi2.ppf(left_tail_prob, degrees_of_freedom)\n",
    "    \n",
    "# defining a function to calculate the not cumulative probability at a certain chi-square x value (for x individually)\n",
    "def calculate_prob_from_chi_square_x_not_cumulative(chi_square_x, degrees_of_freedom):\n",
    "    return stats.chi2.pdf(chi_square_x, degrees_of_freedom)\n",
    "\n",
    "# A:\n",
    "print(f\"A - the cumulated probability for x>6 (right tail) is: {1-calculate_prob_from_chi_square_x_cumulative(6,7)}. Response: {round((1-calculate_prob_from_chi_square_x_cumulative(6,7))*100,2)}%.\")\n",
    "\n",
    "# B:\n",
    "print(f\"B - the cumulated probability for x<8 (left tail) is: {calculate_prob_from_chi_square_x_cumulative(8,7)}. Response: {round((calculate_prob_from_chi_square_x_cumulative(8,7))*100,2)}%.\")\n",
    "\n",
    "# C:\n",
    "print(f\"C - the x value so that the cumulated probability above it is 5% (right tail prob) is: {calculate_x_chi_square_value_for_prob_cumulative(1-0.05,7)}. Response: X = {round(calculate_x_chi_square_value_for_prob_cumulative(1-0.05,7),2)}.\")\n",
    "\n",
    "# D:\n",
    "print(f\"D - the x value so that the cumulated probability below it is 90% (left tail prob) is: {calculate_x_chi_square_value_for_prob_cumulative(0.90,7)}. Response: X = {round(calculate_x_chi_square_value_for_prob_cumulative(0.90,7),2)}.\")\n"
   ]
  },
  {
   "cell_type": "code",
   "execution_count": 10,
   "id": "48b4bcf1-5575-4957-8ac8-07a1ab8a03cf",
   "metadata": {},
   "outputs": [
    {
     "name": "stdout",
     "output_type": "stream",
     "text": [
      "    CHI_SQUARE_X  PROBABILITY\n",
      "0            0.0     0.000000\n",
      "1            0.5     0.003662\n",
      "2            1.0     0.016131\n",
      "3            1.5     0.034620\n",
      "4            2.0     0.055348\n",
      "..           ...          ...\n",
      "36          18.0     0.004512\n",
      "37          18.5     0.003763\n",
      "38          19.0     0.003133\n",
      "39          19.5     0.002603\n",
      "40          20.0     0.002160\n",
      "\n",
      "[41 rows x 2 columns]\n",
      "\n",
      "\n"
     ]
    },
    {
     "data": {
      "image/png": "[encoded data removed]",
      "text/plain": [
       "<Figure size 640x480 with 1 Axes>"
      ]
     },
     "metadata": {},
     "output_type": "display_data"
    }
   ],
   "source": [
    "# calculating and plotting some sample chi_square x and prob(x) data in order to plot a chi-square distribution graph example (not related \n",
    "# to the data above)\n",
    "\n",
    "DEGREES_OF_FREEDOM = 7\n",
    "\n",
    "# creating and calculating x_axis and y_axis values lists\n",
    "chi_square_x_axis_list = np.arange(0,20.5,0.5)\n",
    "chi_square_y_axis_list=[]\n",
    "for chi_square_x_temp in chi_square_x_axis_list:\n",
    "    chi_square_y_axis_list.append(calculate_prob_from_chi_square_x_not_cumulative(chi_square_x_temp, DEGREES_OF_FREEDOM))\n",
    "\n",
    "# tabulating data into a pandas dataframe\n",
    "chi_square_dataframe = pd.DataFrame(columns=[\"CHI_SQUARE_X\", \"PROBABILITY\"])\n",
    "chi_square_dataframe[\"CHI_SQUARE_X\"] = chi_square_x_axis_list\n",
    "chi_square_dataframe[\"PROBABILITY\"] = chi_square_y_axis_list\n",
    "with pd.option_context('display.max_rows', 10):\n",
    "    print(f\"{chi_square_dataframe.loc[0:chi_square_dataframe.size:1]}\\n\\n\")\n",
    "\n",
    "# plotting both axis' data into a matplotlib graph\n",
    "fig, ax = plt.subplots()\n",
    "ax.plot(chi_square_x_axis_list, chi_square_y_axis_list, color=\"lime\")\n",
    "ax.set_xlabel(\"CHI_SQUARE_X\", labelpad=10)\n",
    "ax.set_ylabel(\"PROBABILITY\", labelpad=10)\n",
    "ax.fill_between(x=chi_square_dataframe.CHI_SQUARE_X, y1=chi_square_dataframe.PROBABILITY, y2=0, color=\"fuchsia\", alpha=0.5)\n",
    "ax.set_title(\"Chi-square Probability Distribution\")\n",
    "plt.show()"
   ]
  },
  {
   "cell_type": "markdown",
   "id": "e782fbe3-505a-4171-ba2e-853a51c1d474",
   "metadata": {},
   "source": [
    "### Student's t Distribution"
   ]
  },
  {
   "cell_type": "code",
   "execution_count": null,
   "id": "bbe08f37-eda3-49dd-b59d-a7d35aeca37d",
   "metadata": {},
   "outputs": [],
   "source": [
    "# Student's t distribution (or simply the t distribution) is a continuous probability distribution that generalizes the standard normal \n",
    "# distribution. Like the latter, it is symmetric around zero and bell-shaped. However, it has heavier tails and the amount of probability \n",
    "# mass in the tails is controlled by the parameter ν (degrees of freedom). For ν = 1 the Student's t distribution becomes the standard Cauchy distribution, which \n",
    "# has very \"fat\" tails; whereas for ν → ∞ it becomes the standard normal distribution N(0,1), which has very \"thin\" tails.\n",
    "# The Student's t distribution plays a role in a number of widely used statistical analyses, including Student's t test for assessing the \n",
    "# statistical significance of the difference between two sample means, the construction of confidence intervals for the difference between \n",
    "# two population means, and in linear regression analysis."
   ]
  },
  {
   "cell_type": "markdown",
   "id": "cbea4ed0-4585-4ec0-8a49-c7b49ffdca56",
   "metadata": {},
   "source": [
    "![student-pdf](student-pdf.png) ![student-cdf](student-cdf.png)"
   ]
  },
  {
   "cell_type": "code",
   "execution_count": null,
   "id": "8d5d918f-cea0-4579-a380-f949595f9c30",
   "metadata": {},
   "outputs": [],
   "source": [
    "# Case: in a quality control context, a manager at a company is performing some analysis based on Student's t distribution, with 7 degrees\n",
    "# of freedom. Considering that, calculate:\n",
    "\n",
    "# A - the probability that he finds t>2.5\n",
    "# B - the probability that he finds t<-2.5\n",
    "# C - the probability that he finds t>-1 and t<2\n",
    "# D - the t value that makes the probability P(T>t) be 5%, that is, for what t value he would have 5% of getting values above that t\n",
    "\n",
    "DEGREES_OF_FREEDOM = 7\n",
    "\n",
    "# defining a function to calculate the cumulative probability at a certain t value (left tail)\n",
    "def calculate_prob_from_t_cumulative(t_value, degrees_of_freedom):\n",
    "    return stats.t.cdf(t_value, degrees_of_freedom)\n",
    "\n",
    "# defining a function to calculate the inverse of cdf(), that is, the critical t value for the complement of the confidence level\n",
    "# desired (1-right_tail prob = left_tail prob)\n",
    "def calculate_t_value_for_prob_cumulative(left_tail_prob, degrees_of_freedom):\n",
    "    return stats.t.ppf(left_tail_prob, degrees_of_freedom)\n",
    "    \n",
    "# defining a function to calculate the not cumulative probability at a certain t value (for t individually)\n",
    "def calculate_prob_from_t_not_cumulative(t_value, degrees_of_freedom):\n",
    "    return stats.t.pdf(t_value, degrees_of_freedom)\n",
    "\n",
    "# A:\n",
    "print(f\"A - the cumulated probability for t>2.5 (right tail) is: {1-calculate_prob_from_t_cumulative(2.5,7)}. Response: {round((1-calculate_prob_from_t_cumulative(2.5,7))*100,2)}%.\")\n",
    "print(f\"B - the cumulated probability for t<-2.5 (left tail) is: {calculate_prob_from_t_cumulative(-2.5,7)}. Response: {round((calculate_prob_from_t_cumulative(-2.5,7))*100,2)}%.\")\n",
    "print(f\"C - the cumulated probability for percents for interval between t=-1 and t=2 is: {calculate_prob_from_t_cumulative(2,7)-calculate_prob_from_t_cumulative(-1,7)}. Response: {round((calculate_prob_from_t_cumulative(2,7)-calculate_prob_from_t_cumulative(-1,7))*100,2)}%.\")\n",
    "print(f\"D - the t value so that the cumulated probability above it is 5% (right tail prob) is: {calculate_t_value_for_prob_cumulative(1-0.05,7)}. Response: t = {round(calculate_t_value_for_prob_cumulative(1-0.05,7),2)}.\")"
   ]
  },
  {
   "cell_type": "code",
   "execution_count": null,
   "id": "dc1e05c3-8100-4b12-9961-9e74b7e01df2",
   "metadata": {},
   "outputs": [],
   "source": [
    "# calculating and plotting some sample t and prob(t) data in order to plot a Student's t distribution graph example (not related \n",
    "# to the data above)\n",
    "\n",
    "DEGREES_OF_FREEDOM = 7\n",
    "\n",
    "# creating and calculating x_axis and y_axis values lists\n",
    "students_t_x_axis_list = np.arange(-5,5.1,0.1)\n",
    "students_t_y_axis_list=[]\n",
    "for t_temp in students_t_x_axis_list:\n",
    "    students_t_y_axis_list.append(calculate_prob_from_t_not_cumulative(t_temp, DEGREES_OF_FREEDOM))\n",
    "\n",
    "# tabulating data into a pandas dataframe\n",
    "t_dataframe = pd.DataFrame(columns=[\"STUDENT_t\", \"PROBABILITY\"])\n",
    "t_dataframe[\"STUDENT_t\"] = students_t_x_axis_list\n",
    "t_dataframe[\"PROBABILITY\"] = students_t_y_axis_list\n",
    "print(f\"{t_dataframe.loc[0:t_dataframe.size:1]}\\n\\n\")\n",
    "\n",
    "# plotting both axis' data into a matplotlib graph\n",
    "fig, ax = plt.subplots()\n",
    "ax.plot(students_t_x_axis_list, students_t_y_axis_list, color=\"lime\")\n",
    "ax.set_xlabel(\"STUDENT_t\", labelpad=10)\n",
    "ax.set_ylabel(\"PROBABILITY\", labelpad=10)\n",
    "ax.fill_between(x=t_dataframe.STUDENT_t, y1=t_dataframe.PROBABILITY, y2=0, color=\"fuchsia\", alpha=0.5)\n",
    "ax.set_title(\"Student's t Probability Distribution\")\n",
    "plt.show()"
   ]
  },
  {
   "cell_type": "markdown",
   "id": "c8abeff3-22d1-46e8-a37c-3f302bf6913e",
   "metadata": {},
   "source": [
    "### Fisher–Snedecor distribution (or F distribution)"
   ]
  },
  {
   "cell_type": "code",
   "execution_count": null,
   "id": "58d9dd69-bba6-4a76-9a19-28667f7f594a",
   "metadata": {},
   "outputs": [],
   "source": [
    "# F-distribution or F-ratio, also known as Snedecor's F distribution or the Fisher–Snedecor distribution (after Ronald Fisher and \n",
    "# George W. Snedecor), is a continuous probability distribution that arises frequently as the null distribution of a test statistic, \n",
    "# most notably in the analysis of variance (ANOVA) and other F-tests. It is an asymmetric and with positive skewness when its degrees\n",
    "# of freedom at the numerator and denominator - v1 and v2 (or d1 and d2) - are low. Pdf and cdf formulas below."
   ]
  },
  {
   "cell_type": "markdown",
   "id": "e8421ddc-d58b-47eb-8a5a-df4e9e2389c4",
   "metadata": {},
   "source": [
    "![Fisher-Snedecor](Fisher-Snedecor.png)"
   ]
  },
  {
   "cell_type": "code",
   "execution_count": null,
   "id": "9d0aff49-2976-43a3-892d-95f2ac5de3eb",
   "metadata": {},
   "outputs": [],
   "source": [
    "# Case: a scientist is evaluating a statistics analysis test that follows the Fisher-Snedecor distribution. It has 17 degrees of freedom\n",
    "# at the numerator and 28 degrees of freedom at the denominator. Calculate:\n",
    "\n",
    "# A - probability that x > 1.5\n",
    "# B - probability that x < 1\n",
    "# C - probability that 2 < x < 3\n",
    "# D - the F value that makes the probability P(X>x) be 5%, that is, for what F value x he would have 5% of getting values above that x\n",
    "\n",
    "DEGREES_OF_FREEDOM_NUMERATOR = 17\n",
    "DEGREES_OF_FREEDOM_DENOMINATOR = 28\n",
    "\n",
    "# defining a function to calculate the cumulative probability at a certain f value (left tail)\n",
    "def calculate_prob_from_f_cumulative(f_value, degrees_of_freedom_numerator, degrees_of_freedom_denominator):\n",
    "    return stats.f.cdf(f_value, degrees_of_freedom_numerator, degrees_of_freedom_denominator)\n",
    "\n",
    "# defining a function to calculate the inverse of cdf(), that is, the critical f value for the complement of the confidence level\n",
    "# desired (1-right_tail prob = left_tail prob)\n",
    "def calculate_f_value_for_prob_cumulative(left_tail_prob, degrees_of_freedom_numerator, degrees_of_freedom_denominator):\n",
    "    return stats.f.ppf(left_tail_prob, degrees_of_freedom_numerator, degrees_of_freedom_denominator)\n",
    "    \n",
    "# defining a function to calculate the not cumulative probability at a certain f value (for f individually)\n",
    "def calculate_prob_from_f_not_cumulative(f_value, degrees_of_freedom_numerator, degrees_of_freedom_denominator):\n",
    "    return stats.f.pdf(f_value, degrees_of_freedom_numerator, degrees_of_freedom_denominator)\n",
    "\n",
    "# A:\n",
    "print(f\"A - the cumulated probability for f>1.5 (right tail) is: {1-calculate_prob_from_f_cumulative(1.5,DEGREES_OF_FREEDOM_NUMERATOR, DEGREES_OF_FREEDOM_DENOMINATOR)}. Response: {round((1-calculate_prob_from_f_cumulative(1.5,DEGREES_OF_FREEDOM_NUMERATOR, DEGREES_OF_FREEDOM_DENOMINATOR))*100,2)}%.\")\n",
    "print(f\"B - the cumulated probability for f<1 (left tail) is: {calculate_prob_from_f_cumulative(1,DEGREES_OF_FREEDOM_NUMERATOR, DEGREES_OF_FREEDOM_DENOMINATOR)}. Response: {round((calculate_prob_from_f_cumulative(1,DEGREES_OF_FREEDOM_NUMERATOR, DEGREES_OF_FREEDOM_DENOMINATOR))*100,2)}%.\")\n",
    "print(f\"C - the cumulated probability for percents for interval between f=2 and f=3 is: {calculate_prob_from_f_cumulative(3,DEGREES_OF_FREEDOM_NUMERATOR, DEGREES_OF_FREEDOM_DENOMINATOR)-calculate_prob_from_f_cumulative(2,DEGREES_OF_FREEDOM_NUMERATOR, DEGREES_OF_FREEDOM_DENOMINATOR)}. Response: {round((calculate_prob_from_f_cumulative(3,DEGREES_OF_FREEDOM_NUMERATOR, DEGREES_OF_FREEDOM_DENOMINATOR)-calculate_prob_from_f_cumulative(2,DEGREES_OF_FREEDOM_NUMERATOR, DEGREES_OF_FREEDOM_DENOMINATOR))*100,2)}%.\")\n",
    "print(f\"D - the f value so that the cumulated probability above it is 5% (right tail prob) is: {calculate_f_value_for_prob_cumulative(1-0.05, DEGREES_OF_FREEDOM_NUMERATOR, DEGREES_OF_FREEDOM_DENOMINATOR)}. Response: t = {round(calculate_f_value_for_prob_cumulative(1-0.05, DEGREES_OF_FREEDOM_NUMERATOR, DEGREES_OF_FREEDOM_DENOMINATOR),2)}.\")\n"
   ]
  },
  {
   "cell_type": "code",
   "execution_count": null,
   "id": "9a7e89fb-d0a3-46e9-97d3-54320ecd99b5",
   "metadata": {},
   "outputs": [],
   "source": [
    "# calculating and plotting some sample f and prob(f) data in order to plot a Fisher-Snedecor distribution graph example (not related \n",
    "# to the data above)\n",
    "\n",
    "DEGREES_OF_FREEDOM_NUMERATOR = 17\n",
    "DEGREES_OF_FREEDOM_DENOMINATOR = 28\n",
    "\n",
    "# creating and calculating x_axis and y_axis values lists\n",
    "f_x_axis_list = np.arange(0,5.05,0.05)\n",
    "f_y_axis_list=[]\n",
    "for f_temp in f_x_axis_list:\n",
    "    f_y_axis_list.append(calculate_prob_from_f_not_cumulative(f_temp, DEGREES_OF_FREEDOM_NUMERATOR, DEGREES_OF_FREEDOM_DENOMINATOR))\n",
    "\n",
    "# tabulating data into a pandas dataframe\n",
    "f_dataframe = pd.DataFrame(columns=[\"F\", \"PROBABILITY\"])\n",
    "f_dataframe[\"F\"] = f_x_axis_list\n",
    "f_dataframe[\"PROBABILITY\"] = f_y_axis_list\n",
    "print(f\"{f_dataframe.loc[0:f_dataframe.size:1]}\\n\\n\")\n",
    "\n",
    "# plotting both axis' data into a matplotlib graph\n",
    "fig, ax = plt.subplots()\n",
    "ax.plot(f_x_axis_list, f_y_axis_list, color=\"lime\")\n",
    "ax.set_xlabel(\"F\", labelpad=10)\n",
    "ax.set_ylabel(\"PROBABILITY\", labelpad=10)\n",
    "ax.fill_between(x=f_dataframe.F, y1=f_dataframe.PROBABILITY, y2=0, color=\"fuchsia\", alpha=0.5)\n",
    "ax.set_title(\"Fisher-Snedecor Probability Distribution\")\n",
    "plt.show()"
   ]
  },
  {
   "cell_type": "code",
   "execution_count": null,
   "id": "3b7ae5a4-5bca-471d-a5a4-bad82ac8a4e2",
   "metadata": {},
   "outputs": [],
   "source": []
  }
 ],
 "metadata": {
  "kernelspec": {
   "display_name": "Python 3 (ipykernel)",
   "language": "python",
   "name": "python3"
  },
  "language_info": {
   "codemirror_mode": {
    "name": "ipython",
    "version": 3
   },
   "file_extension": ".py",
   "mimetype": "text/x-python",
   "name": "python",
   "nbconvert_exporter": "python",
   "pygments_lexer": "ipython3",
   "version": "3.10.12"
  }
 },
 "nbformat": 4,
 "nbformat_minor": 5
}
