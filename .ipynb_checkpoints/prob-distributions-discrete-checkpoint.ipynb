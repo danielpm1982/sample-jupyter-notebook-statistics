{
 "cells": [
  {
   "cell_type": "markdown",
   "id": "f18e31c0-e87f-4be9-ab18-212e3cbe8bd2",
   "metadata": {},
   "source": [
    "## These are examples of how to proceed with pobability distributions for quantitative discrete data, including discrete uniform, bernoulli, binomial, negative binomial and poisson, with Python, Pandas, NumPy and Matplotlib"
   ]
  },
  {
   "cell_type": "code",
   "execution_count": 1,
   "id": "c5fedcab-dc4d-45ef-b2ff-015fa6d7c856",
   "metadata": {},
   "outputs": [],
   "source": [
    "# importing libs and setting default plot style\n",
    "%matplotlib inline\n",
    "import matplotlib.pyplot as plt\n",
    "plt.style.use(\"dark_background\")\n",
    "import pandas as pd\n",
    "import numpy as np\n",
    "from scipy import stats\n",
    "from functools import reduce"
   ]
  },
  {
   "cell_type": "code",
   "execution_count": 1,
   "id": "16e10e36-3649-4bb6-a375-905862a2230a",
   "metadata": {},
   "outputs": [],
   "source": [
    "# Case: \n",
    "\n"
   ]
  },
  {
   "cell_type": "code",
   "execution_count": null,
   "id": "61d4090a-1a0e-41b2-a699-6cfe4e9b841e",
   "metadata": {},
   "outputs": [],
   "source": []
  }
 ],
 "metadata": {
  "kernelspec": {
   "display_name": "Python 3 (ipykernel)",
   "language": "python",
   "name": "python3"
  },
  "language_info": {
   "codemirror_mode": {
    "name": "ipython",
    "version": 3
   },
   "file_extension": ".py",
   "mimetype": "text/x-python",
   "name": "python",
   "nbconvert_exporter": "python",
   "pygments_lexer": "ipython3",
   "version": "3.10.12"
  }
 },
 "nbformat": 4,
 "nbformat_minor": 5
}
