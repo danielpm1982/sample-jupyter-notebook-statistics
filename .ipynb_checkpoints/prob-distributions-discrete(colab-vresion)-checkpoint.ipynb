{
 "cells": [
  {
   "cell_type": "markdown",
   "id": "f18e31c0-e87f-4be9-ab18-212e3cbe8bd2",
   "metadata": {},
   "source": [
    "## These are examples of how to use pobability distributions for quantitative discrete data, including discrete uniform, bernoulli, binomial, negative binomial and poisson, with Python, Pandas, NumPy and Matplotlib"
   ]
  },
  {
   "cell_type": "markdown",
   "id": "5de39126-06aa-430f-92ea-a20aa8e3cad9",
   "metadata": {},
   "source": [
    "* the formulas shown at this notebook have been taken from the following reference:<br>\n",
    "FÁVERO, L. P.; BELFIORE, P. **Manual de Análise de Dados: Estatística e Machine Learning com Excel®, SPSS®, Stata®, R® e Python®**. 2ª edição, 1288 p. Brasil: ccGEN LTC, 2024.<br>\n",
    "Available in Brazil at:<br>\n",
    "https://www.amazon.com.br/Manual-An-C3-A1lise-Dados-Estat-C3-ADstica-Learning-dp-8595159920/dp/8595159920"
   ]
  },
  {
   "cell_type": "code",
   "execution_count": 1,
   "id": "c5fedcab-dc4d-45ef-b2ff-015fa6d7c856",
   "metadata": {},
   "outputs": [],
   "source": [
    "# importing libs and setting default plot style\n",
    "%matplotlib inline\n",
    "import matplotlib.pyplot as plt\n",
    "plt.style.use(\"dark_background\")\n",
    "import pandas as pd\n",
    "import numpy as np\n",
    "from scipy import stats\n",
    "from functools import reduce\n",
    "import math"
   ]
  },
  {
   "cell_type": "markdown",
   "id": "1f389ee5-1f67-4ec2-b667-2e5cf054c745",
   "metadata": {},
   "source": [
    "### Uniform Discrete Distribution"
   ]
  },
  {
   "cell_type": "code",
   "execution_count": 2,
   "id": "9269bbc3-54ff-4179-bedf-6c31dccc2d86",
   "metadata": {},
   "outputs": [],
   "source": [
    "# we have a uniform discrete distribution when the probability of results for all possible event outcomes is exactly the same. In the \n",
    "# fomula below, \"n\" represents the number of possible results, all of them with the same exact probability to occur."
   ]
  },
  {
   "cell_type": "markdown",
   "id": "dd6671f0-2769-42e9-acf9-f0748f88bb9c",
   "metadata": {},
   "source": [
    "![uniform-discrete](https://raw.githubusercontent.com/danielpm1982/sample-jupyter-notebook-statistics/master/uniform-discrete.png)"
   ]
  },
  {
   "cell_type": "code",
   "execution_count": 3,
   "id": "16e10e36-3649-4bb6-a375-905862a2230a",
   "metadata": {},
   "outputs": [
    {
     "data": {
      "text/html": [
       "<div>\n",
       "<style scoped>\n",
       "    .dataframe tbody tr th:only-of-type {\n",
       "        vertical-align: middle;\n",
       "    }\n",
       "\n",
       "    .dataframe tbody tr th {\n",
       "        vertical-align: top;\n",
       "    }\n",
       "\n",
       "    .dataframe thead th {\n",
       "        text-align: right;\n",
       "    }\n",
       "</style>\n",
       "<table border=\"1\" class=\"dataframe\">\n",
       "  <thead>\n",
       "    <tr style=\"text-align: right;\">\n",
       "      <th></th>\n",
       "      <th>DIE_FACE</th>\n",
       "      <th>PROBABILITY</th>\n",
       "    </tr>\n",
       "  </thead>\n",
       "  <tbody>\n",
       "    <tr>\n",
       "      <th>0</th>\n",
       "      <td>1</td>\n",
       "      <td>0.166667</td>\n",
       "    </tr>\n",
       "    <tr>\n",
       "      <th>1</th>\n",
       "      <td>2</td>\n",
       "      <td>0.166667</td>\n",
       "    </tr>\n",
       "    <tr>\n",
       "      <th>2</th>\n",
       "      <td>3</td>\n",
       "      <td>0.166667</td>\n",
       "    </tr>\n",
       "    <tr>\n",
       "      <th>3</th>\n",
       "      <td>4</td>\n",
       "      <td>0.166667</td>\n",
       "    </tr>\n",
       "    <tr>\n",
       "      <th>4</th>\n",
       "      <td>5</td>\n",
       "      <td>0.166667</td>\n",
       "    </tr>\n",
       "    <tr>\n",
       "      <th>5</th>\n",
       "      <td>6</td>\n",
       "      <td>0.166667</td>\n",
       "    </tr>\n",
       "  </tbody>\n",
       "</table>\n",
       "</div>"
      ],
      "text/plain": [
       "   DIE_FACE  PROBABILITY\n",
       "0         1     0.166667\n",
       "1         2     0.166667\n",
       "2         3     0.166667\n",
       "3         4     0.166667\n",
       "4         5     0.166667\n",
       "5         6     0.166667"
      ]
     },
     "execution_count": 3,
     "metadata": {},
     "output_type": "execute_result"
    }
   ],
   "source": [
    "# Case: what's the probability for rolling each face of a 6-sided regular die ? Observe that the probability for each face\n",
    "# to be rolled is exactly the same 1/6 (=0.166667). This is an example of a uniform discrete distribution.\n",
    "\n",
    "die_dataframe = pd.DataFrame(columns=[\"DIE_FACE\",\"PROBABILITY\"])\n",
    "die_dataframe['DIE_FACE'] = [1,2,3,4,5,6]\n",
    "die_dataframe['PROBABILITY'] = [1/6, 1/6, 1/6, 1/6, 1/6, 1/6]\n",
    "die_dataframe"
   ]
  },
  {
   "cell_type": "code",
   "execution_count": 4,
   "id": "61d4090a-1a0e-41b2-a699-6cfe4e9b841e",
   "metadata": {},
   "outputs": [
    {
     "data": {
      "image/png": "[encoded data removed]",
      "text/plain": [
       "<Figure size 640x480 with 1 Axes>"
      ]
     },
     "metadata": {},
     "output_type": "display_data"
    }
   ],
   "source": [
    "# creating the scatter graph for all events' probabilities - it's always the same probability\n",
    "plt.scatter(die_dataframe[\"DIE_FACE\"], die_dataframe[\"PROBABILITY\"], color=\"yellow\");"
   ]
  },
  {
   "cell_type": "markdown",
   "id": "b27f9cff-781d-404c-9d0b-ab20f93e01da",
   "metadata": {},
   "source": [
    "### Bernoulli Distribution"
   ]
  },
  {
   "cell_type": "code",
   "execution_count": 5,
   "id": "cdee48d1-26a8-445c-9523-e1c45d0d07b6",
   "metadata": {},
   "outputs": [],
   "source": [
    "# we have a Bernoulli distribution when we have only two possible outcomes for an event, either success (1) or failure (0). And the event\n",
    "# occurs only once - only 1 trial. The probability \"p\" of the success event is always the same, as the probability \"1-p\" of the failure \n",
    "# event. We can then calculate the probability of sucess (p) or failure (1-p) to happen on this single-event experiment. From Bernoulli\n",
    "# distributions derive the other two next distributions below: binomial and negative binomial distributions."
   ]
  },
  {
   "cell_type": "markdown",
   "id": "637a6234-709f-4c47-bc25-362bb43f2ff1",
   "metadata": {},
   "source": [
    "![bernoulle](https://raw.githubusercontent.com/danielpm1982/sample-jupyter-notebook-statistics/master/bernoulli.png)"
   ]
  },
  {
   "cell_type": "code",
   "execution_count": 6,
   "id": "07ac22bb-2559-4f5b-b617-6967905953bb",
   "metadata": {},
   "outputs": [
    {
     "name": "stdout",
     "output_type": "stream",
     "text": [
      "The pobabilities of failing or passing a one-try exam by the candidate are 0.52 and 0.48, respectively. The accumulated probability at x=1 is 1.0 or 100%.\n"
     ]
    }
   ],
   "source": [
    "# Case: a candidate is about to take an exam. The probebility to pass the exam, empirically, was calculated as 48%. What's the \n",
    "# probabilities for the candidate to pass or fail the test ?\n",
    "\n",
    "x_0 = 0.48**0*(1-0.48)**(1-0)\n",
    "x_1 = 0.48**1*(1-0.48)**(1-1)\n",
    "x_1_cumulative = x_0+x_1\n",
    "\n",
    "print(f\"The pobabilities of failing or passing a one-try exam by the candidate are {x_0} and {x_1}, respectively. The accumulated probability at x=1 is {x_1_cumulative} or {int(x_1_cumulative)*100}%.\")"
   ]
  },
  {
   "cell_type": "code",
   "execution_count": 7,
   "id": "30683ffc-4c4b-47a1-8936-3349be3f93cf",
   "metadata": {},
   "outputs": [
    {
     "data": {
      "image/png": "[encoded data removed]",
      "text/plain": [
       "<Figure size 400x480 with 1 Axes>"
      ]
     },
     "metadata": {},
     "output_type": "display_data"
    }
   ],
   "source": [
    "# creating a bar graph with the two probabilities for the two mutually exclusive events, considered that only one of them may occur, as\n",
    "# we may have only one event (outcome) for the experiment.\n",
    "\n",
    "fig, ax = plt.subplots()\n",
    "bar_container = ax.bar(x=[0,1], height=[x_0, x_1], width=0.8)\n",
    "bar_container[0].set_color(\"red\")\n",
    "bar_container[1].set_color(\"blue\")\n",
    "ax.set_xticks([0,1])\n",
    "ax.set_xticklabels([\"FAILURE\", \"SUCCESS\"])\n",
    "ax.set_ymargin(0.2)\n",
    "ax.bar_label(ax.containers[0], label_type=\"edge\", color=\"aqua\", padding=5, size=14, fmt=lambda x:'  {:.0f}%'.format(x*100))\n",
    "fig.set_figwidth(4)"
   ]
  },
  {
   "cell_type": "code",
   "execution_count": 8,
   "id": "3a87e860-60e3-4efd-ae35-d826ad9f328a",
   "metadata": {},
   "outputs": [],
   "source": [
    "# or:"
   ]
  },
  {
   "cell_type": "code",
   "execution_count": 9,
   "id": "a56249bc-5046-46c1-927f-8326c33eb4dc",
   "metadata": {},
   "outputs": [
    {
     "name": "stdout",
     "output_type": "stream",
     "text": [
      "The pobabilities of failing or passing a one-try exam by the candidate are 0.52 and 0.48, respectively. The accumulated probability at x=1 is 1.0 or 100%.\n"
     ]
    }
   ],
   "source": [
    "# using scipy stats bernoulli pmf() and cdf() methods to calculate the same above, directly from (x, p)\n",
    "# pmf() is the Probability mass function, that calculates the prob for x at that certain point\n",
    "# cdf() is the Cumulative distribution function, that calculates the cumulative prob for all xs, from 0 until the passed x argument\n",
    "# as here we have only x=0 or x=1 (anything outside this range will generate a NaN result), the cumulative at x=1 is the pmf at x=0 + pmf \n",
    "# at x=1 which must be 1 or 100%... that is, the sum of probabilities of the only two possible events\n",
    "\n",
    "my_bernoulli_x0 = stats.bernoulli.pmf(0,0.48)\n",
    "my_bernoulli_x1 = stats.bernoulli.pmf(1,0.48)\n",
    "my_bernoulli_x1_cumulative = stats.bernoulli.cdf(1,0.48)\n",
    "\n",
    "print(f\"The pobabilities of failing or passing a one-try exam by the candidate are {my_bernoulli_x0} and {my_bernoulli_x1}, respectively. The accumulated probability at x=1 is {my_bernoulli_x1_cumulative} or {int(my_bernoulli_x1_cumulative)*100}%.\")"
   ]
  },
  {
   "cell_type": "markdown",
   "id": "8b63b741-0aa1-469a-8afc-924725b0b299",
   "metadata": {},
   "source": [
    "### Binomial Distribution"
   ]
  },
  {
   "cell_type": "code",
   "execution_count": 10,
   "id": "d61eb15d-e90b-445a-ab9b-20f245fea78b",
   "metadata": {},
   "outputs": [],
   "source": [
    "# we have a binomial distribution when we have independent fixed number \"n\" of repetitions of Bernoulli experiment, with the same \n",
    "# probability \"p\" for all \"k\" successful events to occur. We wanna know the probability of achieving a k-number of success events \n",
    "# for a fixed number of n trials. Or, for a given number \"n\" of fixed trials, what's the probability of achieving \"k\" successes ? \n",
    "# Number of failure events are (n-k), and the probability for each failure event is (1-p). n is fixed, k varies along with what \n",
    "# probability is being requested. At the graph, k is the x-axis values... and y-axis is the probability for each k. We're interested\n",
    "# in the varying number of sucesses and their probabilities for a fixed n number of trials and a fixed p for each successful event."
   ]
  },
  {
   "cell_type": "markdown",
   "id": "95199812-d666-43d6-aee9-37f65be39938",
   "metadata": {},
   "source": [
    "![binomial](https://raw.githubusercontent.com/danielpm1982/sample-jupyter-notebook-statistics/master/binomial.png)"
   ]
  },
  {
   "cell_type": "code",
   "execution_count": 11,
   "id": "0f452707-58ae-4eb8-9938-8e18e2a075c2",
   "metadata": {},
   "outputs": [],
   "source": [
    "# creating functions to calculate manually the factorial, the Newton binomial factor and the Binomial Distribution probability\n",
    "\n",
    "def my_binomial_dist_prob_calc(n, k, p, cumulative=False):\n",
    "    '''\n",
    "    Created by: Daniel Pinheiro, https://danielpm1982.com, https://github.com/danielpm1982\n",
    "    \n",
    "    Parameters\n",
    "    ----------\n",
    "    n (int): total number of events in the experiments, at a certain period of time or space area;\n",
    "    k (int): number of successful events among all n total events, at the same time period or space area as n;\n",
    "    p (float): constant probability (based on historical data) of having a single sucessful event, at the same time period or space area as n and k;\n",
    "    cumulative (bool): set cumulative parameter to True if you want the sum of all probabilities (AUC) since 0 until that k you've set, or False, if you simply wish the probability at that specific k point of the x axis of the Binomial Distribution.\n",
    "    \n",
    "    Returns\n",
    "    -------\n",
    "    result (float): the Binomial Distribution probability value requested for an experiment with n total number of events, k number of successful events and p constant probability of a successful event to occur.\n",
    "    \n",
    "    Notes\n",
    "    -----\n",
    "    number of failure events = n-k;\n",
    "    probability of failure events = 1-p;\n",
    "    each event follows Bernoulli distribution in the fact that a sucessful or failure event will either and allways occur (boolean events), therefore prob_success(p)+prob_failure(1-p) is always 1 or 100%;\n",
    "    this function contains two inner functions for calculating factorials and Newton's binomials, both not described at this docstring.\n",
    "    '''\n",
    "    def inner_factorial(z):\n",
    "        if z<=1:\n",
    "            return 1\n",
    "        else:\n",
    "            return z*inner_factorial(z-1)\n",
    "    def inner_binomial_coefficient(w,t):\n",
    "        return (inner_factorial(w))/(inner_factorial(t)*inner_factorial(w-t))\n",
    "    if(not cumulative):\n",
    "        result = inner_binomial_coefficient(n,k)*(p**k)*((1-p)**(n-k))\n",
    "    else:\n",
    "        cumulator = 0\n",
    "        for i in range(0,k+1,1):\n",
    "            cumulator+=inner_binomial_coefficient(n,i)*(p**i)*((1-p)**(n-i))\n",
    "        result = cumulator\n",
    "    return result"
   ]
  },
  {
   "cell_type": "code",
   "execution_count": 12,
   "id": "e31b4132-caf0-4851-96d8-c96354cf8a21",
   "metadata": {},
   "outputs": [
    {
     "name": "stdout",
     "output_type": "stream",
     "text": [
      "For k=2, n=12, p=0.065, cumulative=False, the binomial probability is 14.24%\n",
      "For k=4, n=12, p=0.065, cumulative=False, the binomial probability is 0.52%\n",
      "For k=2, n=12, p=0.065, cumulative=True, the binomial probability is 96.12%\n"
     ]
    }
   ],
   "source": [
    "# Case: based on historical data, it is known at an industry, that the fixed probability of finding at least one defective part in each \n",
    "# lot (during production) is 6.5% (p). This is therefore the success event we wanna consider in quality assurance (finding a defective \n",
    "# product in a lot - and, thus, a defective lot). Each month, 12 lots (n) are produced. Regarding the number of sucessful events k \n",
    "# among all n events:\n",
    "# A - what's the probability of fiding defective products in 2 lots in a month ?\n",
    "# B - what's the probability of finding defective products in 4 lots in a month ?\n",
    "# C - what's the probability of finding defective products in at most 2 lots in a month ?\n",
    "\n",
    "# A - for k=2 (two successful events in a month), n=12 (twelve total events in a month) and p=0.065 (probability of each k = 6.5%), we have:\n",
    "p_k_2 = my_binomial_dist_prob_calc(12, 2, 0.065)\n",
    "\n",
    "# B - for k=4, n=12 and p=0.065, we have:\n",
    "p_k_4 = my_binomial_dist_prob_calc(12, 4, 0.065)\n",
    "\n",
    "# C - for k=2, n=12 and p=0.065, but in this case cumulating all probs from k=0 until k=2, we have:\n",
    "p_k_2_cumulative = my_binomial_dist_prob_calc(12, 2, 0.065, cumulative=True)\n",
    "\n",
    "print(f\"For k=2, n=12, p=0.065, cumulative=False, the binomial probability is {p_k_2*100:.2f}%\")\n",
    "print(f\"For k=4, n=12, p=0.065, cumulative=False, the binomial probability is {p_k_4*100:.2f}%\")\n",
    "print(f\"For k=2, n=12, p=0.065, cumulative=True, the binomial probability is {p_k_2_cumulative*100:.2f}%\")"
   ]
  },
  {
   "cell_type": "code",
   "execution_count": 13,
   "id": "621db65c-9319-4c14-b63b-0656c21eb29f",
   "metadata": {},
   "outputs": [
    {
     "data": {
      "image/png": "[encoded data removed]",
      "text/plain": [
       "<Figure size 640x480 with 1 Axes>"
      ]
     },
     "metadata": {},
     "output_type": "display_data"
    }
   ],
   "source": [
    "# creating a sample Series of probabilities of Binomial Distribution type simply to plot that in a sample Matplotlib chart\n",
    "# using the same n=12 and p=0.065 and a list of k(s) from 0 until 12.\n",
    "k_list = list(range(0,13))\n",
    "k_list_prob_result_list = list(map(lambda k:my_binomial_dist_prob_calc(12,k,0.065,False), k_list))\n",
    "fig, ax = plt.subplots()\n",
    "ax.grid(True)\n",
    "ax.set_xlim(k_list[0],k_list[len(k_list)-1])\n",
    "ax.set_ylim(0,0.5)\n",
    "ax.scatter(k_list, k_list_prob_result_list, color=\"lime\");"
   ]
  },
  {
   "cell_type": "code",
   "execution_count": 14,
   "id": "0dd76d49-402b-44e4-accb-b10a51de2372",
   "metadata": {},
   "outputs": [],
   "source": [
    "# or:"
   ]
  },
  {
   "cell_type": "code",
   "execution_count": 15,
   "id": "96c0ddaa-ab70-4dbc-a8b7-ac7cfcd5c99e",
   "metadata": {},
   "outputs": [
    {
     "name": "stdout",
     "output_type": "stream",
     "text": [
      "For k=2, n=12, p=0.065, cumulative=False, the binomial probability is 14.24%\n",
      "For k=4, n=12, p=0.065, cumulative=False, the binomial probability is 0.52%\n",
      "For k=2, n=12, p=0.065, cumulative=True, the binomial probability is 96.12%\n"
     ]
    }
   ],
   "source": [
    "# using scipy stats binon pmf() and cdf() methods to calculate the same A, B and C items above directly from (k,n,p)\n",
    "# pmf() is the Probability mass function, that calculates the prob for a k at that certain point\n",
    "# cdf() is the Cumulative distribution function, that calculates the cumulative prob for all ks, from 0 until the passed k argument\n",
    "my_binomial_n=12\n",
    "my_binomial_p=0.065\n",
    "my_binomial_k_2 = stats.binom.pmf(2,my_binomial_n,my_binomial_p)\n",
    "my_binomial_k_4 = stats.binom.pmf(4,my_binomial_n,my_binomial_p)\n",
    "my_binomial_k_2_cumulative = stats.binom.cdf(2, my_binomial_n, my_binomial_p)\n",
    "\n",
    "print(f\"For k=2, n=12, p=0.065, cumulative=False, the binomial probability is {my_binomial_k_2*100:.2f}%\")\n",
    "print(f\"For k=4, n=12, p=0.065, cumulative=False, the binomial probability is {my_binomial_k_4*100:.2f}%\")\n",
    "print(f\"For k=2, n=12, p=0.065, cumulative=True, the binomial probability is {my_binomial_k_2_cumulative*100:.2f}%\")"
   ]
  },
  {
   "cell_type": "markdown",
   "id": "9c951f0e-66bc-4ae4-b90b-a37ec3baa6c7",
   "metadata": {},
   "source": [
    "### Negative Binomial Distribution"
   ]
  },
  {
   "cell_type": "code",
   "execution_count": 16,
   "id": "04038b3a-bd6a-4891-b83a-2db8ac923640",
   "metadata": {},
   "outputs": [],
   "source": [
    "# we have a negative binomial distribution when, differently from the binomial distribution, we have a varying number \"n\" of total trials,\n",
    "# here called x (because it consists in the x-axis values now) until a certain fixed and pre-defined \"k\" number of sucessful events is \n",
    "# reached. Until all \"k\" successes are reached, the experiment is incomplete, and keeps repeating itself, therefore the \"n\" represents the \n",
    "# total number of failures before a certain and total number of successes is reached. The failure here does not mean the failed outcome of \n",
    "# a single trial, but the fact of not having reached yet the full and total successfull outcomes requested. Until all successes are reached, \n",
    "# the experiment keeps failing (even with some punctual successes). Here we have a predefined number of successes that must be reached and \n",
    "# we wanna know the probability of reaching that total k-number successes after \"n\" trials. The x-axis is the \"n\" and the y-axis is the \n",
    "# probability that, at that \"n\", we have reached all successes requested, for considering the experiment, as a whole, a success, and \n",
    "# concluded. Each event will only end when that fixed k-number of successes is reached... what varies is the number of \"n\" (along the \n",
    "# x-axis) and the probability of having had, at that \"n\", all fixed k successes reached. The \"negative\" here is semantical, not numerical, \n",
    "# and basically emphasizes the contrast that, here, what varies, and what we're interested in, is the number of failures, instead of the \n",
    "# number of successes."
   ]
  },
  {
   "cell_type": "markdown",
   "id": "2d825b83-e8e5-4fa7-8190-13a9cc02bd4e",
   "metadata": {},
   "source": [
    "![binomial-negative](https://raw.githubusercontent.com/danielpm1982/sample-jupyter-notebook-statistics/master/binomial-negative.png)"
   ]
  },
  {
   "cell_type": "code",
   "execution_count": 17,
   "id": "95ff9f13-2f3d-435a-aa54-ade2e0d67774",
   "metadata": {},
   "outputs": [],
   "source": [
    "# creating functions to calculate manually the factorial, the Newton binomial factor and the Negative Binomial Distribution probability\n",
    "\n",
    "def my_negative_binomial_dist_prob_calc(x, k, p, cumulative=False):\n",
    "    '''\n",
    "    Created by: Daniel Pinheiro, https://danielpm1982.com, https://github.com/danielpm1982\n",
    "    \n",
    "    Parameters\n",
    "    ----------\n",
    "    x (int): total number of events until the k number of sucesses is reached, at an experiment, at a certain period of time or space area. x >= k, necessarily, because you couldn't have more k successful events (1 success at most per event) for a lower number of total events x - in the most optimal case, you'd have the same number of those, that is, you would have had k successful outcomes for all x trials;\n",
    "    k (int): fixed number of successful events to be reached after x trials, in order to conclude the experiment, at the same time period or space area as x;\n",
    "    p (float): constant probability (based on historical data) of having a single sucessful event, at the same time period or space area as x and k;\n",
    "    cumulative (bool): set cumulative parameter to True if you want the sum of all probabilities (AUC) since the first minimally possible x (x=k) until that x you've set, or False, if you simply wish the probability at that single specific x point of the x axis of the Negative Binomial Distribution.\n",
    "    \n",
    "    Returns\n",
    "    -------\n",
    "    result (float): the Negative Binomial Distribution probability for an experiment having reached all k successful events with x total number of trials, being \"p' the constant probability of a successful event to occur, independently. Or nan for undefined results (invalid x values).\n",
    "    \n",
    "    Notes\n",
    "    -----\n",
    "    number of single failed trials until total successful trials are reached = x-k;\n",
    "    probability of single failed events = 1-p;\n",
    "    each event follows Bernoulli distribution in the fact that a sucessful or failure event will either and always occur (boolean events), therefore prob_single_success(p) + prob_single_failure(1-p) is always 1 or 100%\n",
    "    this function contains two inner functions for calculating factorials and Newton's binomials, both not described at this docstring.\n",
    "    '''\n",
    "    def inner_factorial(z):\n",
    "        if z<=1:\n",
    "            return 1\n",
    "        else:\n",
    "            return z*inner_factorial(z-1)\n",
    "    def inner_binomial_coefficient(w,t):\n",
    "        return (inner_factorial(w))/(inner_factorial(t)*inner_factorial(w-t))\n",
    "    if(x>=k):\n",
    "        if(not cumulative):\n",
    "            result = inner_binomial_coefficient(x-1,k-1)*(p**k)*((1-p)**(x-k))\n",
    "        else:\n",
    "            cumulator = 0\n",
    "            for i in range(k,x+1,1):\n",
    "                cumulator+=inner_binomial_coefficient(i-1,k-1)*(p**k)*((1-p)**(i-k))\n",
    "            result = cumulator\n",
    "    else:\n",
    "        print(f\"invalid x number for the defined number of k ! Number of successful events (k) can't be higher than total number of events (x) !\")\n",
    "        result = np.nan\n",
    "    return result"
   ]
  },
  {
   "cell_type": "code",
   "execution_count": 18,
   "id": "8b5a9a42-349b-4bf5-babd-289653c8d092",
   "metadata": {},
   "outputs": [
    {
     "name": "stdout",
     "output_type": "stream",
     "text": [
      "For x=10, k=3, p=0.11, cumulative=False, the negative binomial probability is 2.12%\n",
      "For x=20, k=3, p=0.11, cumulative=False, the negative binomial probability is 3.14%\n",
      "For x=5, k=1, p=0.11, cumulative=True, the negative binomial probability is 44.16%\n"
     ]
    }
   ],
   "source": [
    "# Case: based on historical data, it is known, at a toy machine, that the fixed probability of picking up a prize with the machine \n",
    "# mechanical hand is 11% (p). Regarding the number of total trials x needed to succesfully pick up k toy prizes at the same machine:\n",
    "# A - what's the probability of needing 10 trials to capture 3 toy prizes ?\n",
    "# B - what's the probability of needing 20 trials to capture 3 toy prizes ?\n",
    "# C - what's the probability of needing up to 5 trials (5 or less) to capture 1 toy prize ?\n",
    "\n",
    "# A - for x=10 (ten total events), k=3 (three successful events) and p=0.11 (probability of each k = 11%), we have:\n",
    "p_x_10 = my_negative_binomial_dist_prob_calc(10, 3, 0.11)\n",
    "\n",
    "# B - for x=20 (twenty total events), k=3 (three successful events) and p=0.11 (probability of each k = 11%), we have:\n",
    "p_x_20 = my_negative_binomial_dist_prob_calc(20, 3, 0.11)\n",
    "\n",
    "# C - for x=5 (at most five total events), k=3 (three successful events) and p=0.11 (probability of each k = 11%), cumulative = True, we have:\n",
    "p_x_5 = my_negative_binomial_dist_prob_calc(5, 1, 0.11, True)\n",
    "\n",
    "print(f\"For x=10, k=3, p=0.11, cumulative=False, the negative binomial probability is {p_x_10*100:.2f}%\")\n",
    "print(f\"For x=20, k=3, p=0.11, cumulative=False, the negative binomial probability is {p_x_20*100:.2f}%\")\n",
    "print(f\"For x=5, k=1, p=0.11, cumulative=True, the negative binomial probability is {p_x_5*100:.2f}%\")"
   ]
  },
  {
   "cell_type": "code",
   "execution_count": 19,
   "id": "5dd8d8ce-370e-4eca-978a-94928b48e64b",
   "metadata": {},
   "outputs": [
    {
     "data": {
      "image/png": "[encoded data removed]",
      "text/plain": [
       "<Figure size 640x480 with 1 Axes>"
      ]
     },
     "metadata": {},
     "output_type": "display_data"
    }
   ],
   "source": [
    "# creating a sample Series of probabilities of Negative Binomial Distribution type simply to plot that in a sample Matplotlib chart\n",
    "# using k=2 and p=0.4 with a list of x from minimum 2 (minimum = k) until 20.\n",
    "x_list = list(range(2,21))\n",
    "x_list_prob_result_list = list(map(lambda x:my_negative_binomial_dist_prob_calc(x,2,0.4,False), x_list))\n",
    "fig, ax = plt.subplots()\n",
    "ax.grid(True)\n",
    "ax.set_xticks(range(2,(x_list[len(x_list)-1])+1,2))\n",
    "ax.set_xlim(2,x_list[len(x_list)-1])\n",
    "ax.set_ylim(0,0.25)\n",
    "ax.scatter(x_list, x_list_prob_result_list, color=\"lightblue\");"
   ]
  },
  {
   "cell_type": "code",
   "execution_count": 20,
   "id": "42f5cefc-3ca2-429f-a17e-d60b5530638d",
   "metadata": {},
   "outputs": [],
   "source": [
    "# or:"
   ]
  },
  {
   "cell_type": "code",
   "execution_count": 21,
   "id": "47dd47fe-edde-42b5-8859-c98a394e1f81",
   "metadata": {},
   "outputs": [
    {
     "name": "stdout",
     "output_type": "stream",
     "text": [
      "For x=10, k=3, p=0.11, cumulative=False, the negative binomial probability is 2.12%\n",
      "For x=20, k=3, p=0.11, cumulative=False, the negative binomial probability is 3.14%\n",
      "For x=5, k=1, p=0.11, cumulative=True, the negative binomial probability is 44.16%\n"
     ]
    }
   ],
   "source": [
    "# using scipy stats nbinon pmf() and cdf() methods to calculate the same A, B and C items above directly from x, k and p\n",
    "# pmf() is the Probability mass function, that calculates the prob for each x at that certain point\n",
    "# cdf() is the Cumulative distribution function, that calculates the cumulative prob for all xs, from the minimum x=k until the passed \n",
    "# IMPORTANT: because scipy.stats.nbinom uses an alternative formula, other than the one we used above, in nbinon pmf() and cdf() methods, \n",
    "# the first parameter is NOT x (all trials before experiment achieves all k successes), but only the single failures sum, that is, (x-k). \n",
    "# The other two parameters are k and p, as expected. Be careful not to use x in place of (x-k), or results will be wrong.\n",
    "\n",
    "my_neg_binomial_x_10 = stats.nbinom.pmf((10-3),3,0.11)\n",
    "my_neg_binomial_x_20 = stats.nbinom.pmf((20-3),3,0.11)\n",
    "my_neg_binomial_x_5_cumulative = stats.nbinom.cdf((5-1), 1, 0.11)\n",
    "\n",
    "print(f\"For x=10, k=3, p=0.11, cumulative=False, the negative binomial probability is {my_neg_binomial_x_10*100:.2f}%\")\n",
    "print(f\"For x=20, k=3, p=0.11, cumulative=False, the negative binomial probability is {my_neg_binomial_x_20*100:.2f}%\")\n",
    "print(f\"For x=5, k=1, p=0.11, cumulative=True, the negative binomial probability is {my_neg_binomial_x_5_cumulative*100:.2f}%\")"
   ]
  },
  {
   "cell_type": "markdown",
   "id": "49180b5e-5e55-4d8c-b81f-157d252b9735",
   "metadata": {},
   "source": [
    "### Poisson Distribution"
   ]
  },
  {
   "cell_type": "code",
   "execution_count": 22,
   "id": "b9066410-3e07-43e2-9b27-a62b91c2793b",
   "metadata": {},
   "outputs": [],
   "source": [
    "# we use Poisson distributions to calculate the probability of a given (typically rare) number of successful \"k\" events to happen in a \n",
    "# fixed interval of time or area, if these events occur with a known constant mean rate (lambda) and independently of the time since the \n",
    "# last event. The lambda is the variable at which it is set the estimated event occurences per exposal interval (time or area) - based on\n",
    "# historical data. And we wanna calculate the probability of one or more defined \"k\" events to happen in a future same period of time / \n",
    "# area (as lambda). If the time or area intervals differ between lambda and the one requested for the probability calculation, just adjust \n",
    "# the input data to proportionally correspond to the exact same time period or area of lambda."
   ]
  },
  {
   "cell_type": "markdown",
   "id": "8f3859fc-e17d-4103-afe5-5a5be28ebb95",
   "metadata": {},
   "source": [
    "![poisson](https://raw.githubusercontent.com/danielpm1982/sample-jupyter-notebook-statistics/master/poisson.png)"
   ]
  },
  {
   "cell_type": "code",
   "execution_count": 23,
   "id": "d079717b-b066-4024-a8c8-2b53e5bd6f21",
   "metadata": {},
   "outputs": [],
   "source": [
    "# creating functions to calculate manually the factorial and the Poisson Distribution probability\n",
    "\n",
    "def my_poisson_dist_prob_calc(k, the_lambda):\n",
    "    def inner_factorial(z):\n",
    "        if z<=1:\n",
    "            return 1\n",
    "        else:\n",
    "            return z*inner_factorial(z-1)\n",
    "    return (math.e**(-1*the_lambda)*the_lambda**k)/inner_factorial(k)"
   ]
  },
  {
   "cell_type": "code",
   "execution_count": 24,
   "id": "507aab0a-7490-4631-9145-5cf8fb8cea86",
   "metadata": {},
   "outputs": [
    {
     "name": "stdout",
     "output_type": "stream",
     "text": [
      "For k=1, lambda=2, the poisson probability is 27.07%\n",
      "For k=3, lambda=2, the poisson probability is 18.04%\n",
      "For k=0, lambda=2, the poisson probability is 13.53%\n",
      "For k=5, lambda=2, the poisson probability is 3.61%\n"
     ]
    }
   ],
   "source": [
    "# case: at a pharmaceutical doctor's office, a Clinical Pharmaceutical Doctor (PharmD), specialized both in Clinical Pharmacy as in \n",
    "# Clinical Pathology, detected that, each year, he had returned 2 specific patients, with a rare genetic disease, looking for specialized\n",
    "# pharmaceutical consultation and care. Both these patients are in need of advanced pharmaceutical analysis and interventions, complex \n",
    "# pharmaceutical independent prescribing, as well as specialized investigation of current and future diseases' staging, complications and \n",
    "# co-morbities, only diagnosable through Clinical Pathology exams. Regarding the probability of receiving patients with that same rare\n",
    "# genetic disease (including these two), it is asked:\n",
    "# A - the probability that the Pharmaceutical Doctor receives one patient with that same disease during the next year ?\n",
    "# B - the probability that the Pharmaceutical Doctor receives three patients with that same disease during the next year ?\n",
    "# C - the probability that the Pharmaceutical Doctor receives no patient with that same disease during the next year ?\n",
    "# D - the probability that the Pharmaceutical Doctor receives ten patients with that same disease during the next 2 years ?\n",
    "\n",
    "# A - for k=1 and lambda=2, we have:\n",
    "p_k_1 = my_poisson_dist_prob_calc(1, 2)\n",
    "\n",
    "# B - for k=3 and lambda=2, we have:\n",
    "p_k_3 = my_poisson_dist_prob_calc(3, 2)\n",
    "\n",
    "# C - for k=0 and lambda=2, we have:\n",
    "p_k_0 = my_poisson_dist_prob_calc(0, 2)\n",
    "\n",
    "# in this case adapting the question to the same time period of the lambda to keep proportionality\n",
    "# 10 in 2 years = 5 in 1 year\n",
    "# D - for k=5 and lambda=2, we have:\n",
    "p_k_5 = my_poisson_dist_prob_calc(5, 2)\n",
    "\n",
    "print(f\"For k=1, lambda=2, the poisson probability is {p_k_1*100:.2f}%\")\n",
    "print(f\"For k=3, lambda=2, the poisson probability is {p_k_3*100:.2f}%\")\n",
    "print(f\"For k=0, lambda=2, the poisson probability is {p_k_0*100:.2f}%\")\n",
    "print(f\"For k=5, lambda=2, the poisson probability is {p_k_5*100:.2f}%\")\n"
   ]
  },
  {
   "cell_type": "code",
   "execution_count": 25,
   "id": "2d305976-c70b-4fc6-886b-565bbfea6d7f",
   "metadata": {},
   "outputs": [
    {
     "data": {
      "image/png": "[encoded data removed]",
      "text/plain": [
       "<Figure size 640x480 with 1 Axes>"
      ]
     },
     "metadata": {},
     "output_type": "display_data"
    }
   ],
   "source": [
    "# creating a sample Series of probabilities of Poisson Distribution type simply to plot that in a sample Matplotlib chart\n",
    "# using lambda=2 with a list of k from 0 until 10.\n",
    "k_list = list(range(0,11))\n",
    "k_list_prob_result_list = list(map(lambda x:my_poisson_dist_prob_calc(x,2), k_list))\n",
    "fig, ax = plt.subplots()\n",
    "ax.grid(True)\n",
    "ax.set_xticks(range(0,(k_list[len(k_list)-1])+1))\n",
    "ax.set_xlim(0,k_list[len(k_list)-1])\n",
    "ax.set_ylim(0,0.30)\n",
    "ax.scatter(k_list, k_list_prob_result_list, color=\"fuchsia\");"
   ]
  },
  {
   "cell_type": "code",
   "execution_count": 26,
   "id": "0c09c941-9f6f-4a84-9c29-8e4b04cdefc7",
   "metadata": {},
   "outputs": [],
   "source": [
    "# or:"
   ]
  },
  {
   "cell_type": "code",
   "execution_count": 27,
   "id": "12c9eb3d-e8fa-4807-9dc9-d2df71d2c745",
   "metadata": {},
   "outputs": [
    {
     "name": "stdout",
     "output_type": "stream",
     "text": [
      "For k=1, lambda=2, the poisson probability is 27.07%\n",
      "For k=3, lambda=2, the poisson probability is 18.04%\n",
      "For k=0, lambda=2, the poisson probability is 13.53%\n",
      "For k=5, lambda=2, the poisson probability is 3.61%\n"
     ]
    }
   ],
   "source": [
    "# using scipy stats poisson() method to calculate the same A, B, C and D items above directly from k and lambda\n",
    "\n",
    "my_poisson_k_1 = stats.poisson.pmf(1,2)\n",
    "my_poisson_k_3 = stats.poisson.pmf(3,2)\n",
    "my_poisson_k_0 = stats.poisson.pmf(0,2)\n",
    "my_poisson_k_5 = stats.poisson.pmf(5,2)\n",
    "\n",
    "print(f\"For k=1, lambda=2, the poisson probability is {my_poisson_k_1*100:.2f}%\")\n",
    "print(f\"For k=3, lambda=2, the poisson probability is {my_poisson_k_3*100:.2f}%\")\n",
    "print(f\"For k=0, lambda=2, the poisson probability is {my_poisson_k_0*100:.2f}%\")\n",
    "print(f\"For k=5, lambda=2, the poisson probability is {my_poisson_k_5*100:.2f}%\")\n"
   ]
  },
  {
   "cell_type": "code",
   "execution_count": null,
   "id": "7faf3277-ca29-4ff2-8519-4145385ba574",
   "metadata": {},
   "outputs": [],
   "source": []
  }
 ],
 "metadata": {
  "kernelspec": {
   "display_name": "Python 3 (ipykernel)",
   "language": "python",
   "name": "python3"
  },
  "language_info": {
   "codemirror_mode": {
    "name": "ipython",
    "version": 3
   },
   "file_extension": ".py",
   "mimetype": "text/x-python",
   "name": "python",
   "nbconvert_exporter": "python",
   "pygments_lexer": "ipython3",
   "version": "3.10.12"
  }
 },
 "nbformat": 4,
 "nbformat_minor": 5
}
