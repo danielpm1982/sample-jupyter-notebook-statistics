{
 "cells": [
  {
   "cell_type": "markdown",
   "id": "f18e31c0-e87f-4be9-ab18-212e3cbe8bd2",
   "metadata": {},
   "source": [
    "## This is an example of how to proceed bivariate analysis for quantitative data using covariance and the pearson correlation coefficient, with Python, Pandas, NumPy and Matplotlib"
   ]
  },
  {
   "cell_type": "markdown",
   "id": "63a804db-2aec-4076-8da0-84628a3ff067",
   "metadata": {},
   "source": [
    "* the formulas shown at this notebook have been taken from the following reference:<br>\n",
    "FÁVERO, L. P.; BELFIORE, P. **Manual de Análise de Dados: Estatística e Machine Learning com Excel®, SPSS®, Stata®, R® e Python®**. 2ª edição, 1288 p. Brasil: ccGEN LTC, 2024.<br>\n",
    "Available in Brazil at:<br>\n",
    "https://www.amazon.com.br/Manual-An-C3-A1lise-Dados-Estat-C3-ADstica-Learning-dp-8595159920/dp/8595159920"
   ]
  },
  {
   "cell_type": "code",
   "execution_count": 1,
   "id": "c5fedcab-dc4d-45ef-b2ff-015fa6d7c856",
   "metadata": {},
   "outputs": [],
   "source": [
    "# importing libs and setting default plot style\n",
    "%matplotlib inline\n",
    "import matplotlib.pyplot as plt\n",
    "plt.style.use(\"dark_background\")\n",
    "import pandas as pd\n",
    "import numpy as np\n",
    "from scipy import stats\n",
    "from functools import reduce"
   ]
  },
  {
   "cell_type": "markdown",
   "id": "9e347ca7-d0f1-410c-b1a9-3a9e1fabf614",
   "metadata": {},
   "source": [
    "![covariance-correlation-coefficient](covariance-correlation-coefficient.png)"
   ]
  },
  {
   "cell_type": "code",
   "execution_count": 2,
   "id": "16e10e36-3649-4bb6-a375-905862a2230a",
   "metadata": {},
   "outputs": [
    {
     "name": "stdout",
     "output_type": "stream",
     "text": [
      "    Observation  Math  Physics  Literature\n",
      "0             1  5.50      7.5         9.0\n",
      "1             2  9.00      8.5         5.5\n",
      "2             3  4.50      5.0         6.5\n",
      "3             4  6.50      8.0         6.5\n",
      "4             5  7.50      6.0         5.0\n",
      "..          ...   ...      ...         ...\n",
      "25           26  7.00      7.5         8.0\n",
      "26           27  5.00      4.5         9.0\n",
      "27           28  6.50      8.0         5.0\n",
      "28           29  8.50      6.0         6.0\n",
      "29           30  9.75      5.0         6.5\n",
      "\n",
      "[30 rows x 4 columns]\n"
     ]
    }
   ],
   "source": [
    "# Case: check if there is any association between each two disciplines when compared student grades\n",
    "# getting sample data from .csv file\n",
    "disciplines_grades_dataframe = pd.read_csv(\"disciplines-grades.csv\")\n",
    "from pandas import option_context\n",
    "with option_context('display.max_rows', 10):\n",
    "    print(disciplines_grades_dataframe)"
   ]
  },
  {
   "cell_type": "code",
   "execution_count": 3,
   "id": "730f7ddf-557a-463a-a9e6-83be7e170986",
   "metadata": {},
   "outputs": [
    {
     "name": "stdout",
     "output_type": "stream",
     "text": [
      "math_mean = 6.775\n",
      "physics_mean = 6.866666666666666\n",
      "literature_mean = 6.566666666666666\n"
     ]
    }
   ],
   "source": [
    "# calculating univariate statistics for each discipline - mean measure:\n",
    "\n",
    "math_mean = np.mean(disciplines_grades_dataframe[\"Math\"])\n",
    "print(f\"math_mean = {math_mean}\")\n",
    "\n",
    "physics_mean = np.mean(disciplines_grades_dataframe[\"Physics\"])\n",
    "print(f\"physics_mean = {physics_mean}\")\n",
    "\n",
    "literature_mean = np.mean(disciplines_grades_dataframe[\"Literature\"])\n",
    "print(f\"literature_mean = {literature_mean}\")"
   ]
  },
  {
   "cell_type": "code",
   "execution_count": 4,
   "id": "c02fac8e-e8fb-4b2c-a47f-f149480ea090",
   "metadata": {},
   "outputs": [
    {
     "name": "stdout",
     "output_type": "stream",
     "text": [
      "math_sample_standard_deviation = 2.0535398369812468\n",
      "physics_sample_standard_deviation = 1.71671967332515\n",
      "literature_sample_standard_deviation = 1.7157150581957192\n"
     ]
    }
   ],
   "source": [
    "# calculating univariate statistics for each discipline - standard deviation\n",
    "\n",
    "math_sample_standard_deviation = np.std(disciplines_grades_dataframe[\"Math\"], ddof=1)\n",
    "print(f\"math_sample_standard_deviation = {math_sample_standard_deviation}\")\n",
    "\n",
    "physics_sample_standard_deviation = np.std(disciplines_grades_dataframe[\"Physics\"], ddof=1)\n",
    "print(f\"physics_sample_standard_deviation = {physics_sample_standard_deviation}\")\n",
    "\n",
    "literature_sample_standard_deviation = np.std(disciplines_grades_dataframe[\"Literature\"], ddof=1)\n",
    "print(f\"literature_sample_standard_deviation = {literature_sample_standard_deviation}\")\n"
   ]
  },
  {
   "cell_type": "code",
   "execution_count": 5,
   "id": "f3783432-aecf-441a-b681-6d80570b2c78",
   "metadata": {},
   "outputs": [],
   "source": [
    "# calculating bivariate statistics for each pair of disciplines - covariance\n",
    "\n",
    "my_n = np.count_nonzero(disciplines_grades_dataframe[\"Observation\"])\n",
    "\n",
    "def calculate_sample_covariance_of_two_disciplines(discipline_1_series, discipline_2_series, discipline_1_mean, discipline_2_mean, my_n):\n",
    "    my_accumulator = 0\n",
    "    for i in range(0,my_n):\n",
    "        temp_discipline_1_grade = discipline_1_series[i]\n",
    "        temp_discipline_2_grade = discipline_2_series[i]\n",
    "        my_accumulator+=(temp_discipline_1_grade-discipline_1_mean)*(temp_discipline_2_grade-discipline_2_mean)/(my_n-1)\n",
    "    return my_accumulator"
   ]
  },
  {
   "cell_type": "code",
   "execution_count": 6,
   "id": "9efe95cc-e8f1-4bd6-b922-d7319f5d12ae",
   "metadata": {},
   "outputs": [
    {
     "name": "stdout",
     "output_type": "stream",
     "text": [
      "math_physics_sample_covariance = 2.124137931034483\n",
      "math_literature_sample_covariance = -1.0879310344827589\n",
      "physics_literature_sample_covariance = -0.8528735632183908\n"
     ]
    }
   ],
   "source": [
    "math_physics_sample_covariance = calculate_sample_covariance_of_two_disciplines(disciplines_grades_dataframe[\"Math\"], disciplines_grades_dataframe[\"Physics\"], math_mean, physics_mean, my_n)\n",
    "print(f\"math_physics_sample_covariance = {math_physics_sample_covariance}\")\n",
    "math_literature_sample_covariance = calculate_sample_covariance_of_two_disciplines(disciplines_grades_dataframe[\"Math\"], disciplines_grades_dataframe[\"Literature\"], math_mean, literature_mean, my_n)\n",
    "print(f\"math_literature_sample_covariance = {math_literature_sample_covariance}\")\n",
    "physics_literature_sample_covariance = calculate_sample_covariance_of_two_disciplines(disciplines_grades_dataframe[\"Physics\"], disciplines_grades_dataframe[\"Literature\"], physics_mean, literature_mean, my_n)\n",
    "print(f\"physics_literature_sample_covariance = {physics_literature_sample_covariance}\")"
   ]
  },
  {
   "cell_type": "code",
   "execution_count": 7,
   "id": "45627e36-fefc-48f7-bdce-bef98aefaf6e",
   "metadata": {},
   "outputs": [
    {
     "name": "stdout",
     "output_type": "stream",
     "text": [
      "math_physics_sample_pearson_correlation_coefficient = 0.6025321124160095\n",
      "math_literature_sample_pearson_correlation_coefficient = -0.30878277832686224\n",
      "physics_literature_sample_pearson_correlation_coefficient = -0.28956102521926375\n"
     ]
    }
   ],
   "source": [
    "# calculating bivariate statistics for each pair of disciplines - pearson correlation coefficient\n",
    "\n",
    "math_physics_sample_pearson_correlation_coefficient = math_physics_sample_covariance/(math_sample_standard_deviation*physics_sample_standard_deviation)\n",
    "print(f\"math_physics_sample_pearson_correlation_coefficient = {math_physics_sample_pearson_correlation_coefficient}\")\n",
    "math_literature_sample_pearson_correlation_coefficient = math_literature_sample_covariance/(math_sample_standard_deviation*literature_sample_standard_deviation)\n",
    "print(f\"math_literature_sample_pearson_correlation_coefficient = {math_literature_sample_pearson_correlation_coefficient}\")\n",
    "physics_literature_sample_pearson_correlation_coefficient = physics_literature_sample_covariance/(physics_sample_standard_deviation*literature_sample_standard_deviation)\n",
    "print(f\"physics_literature_sample_pearson_correlation_coefficient = {physics_literature_sample_pearson_correlation_coefficient}\")\n"
   ]
  },
  {
   "cell_type": "code",
   "execution_count": 10,
   "id": "8a055870-1e15-41b0-8c6f-feaa1fd5f202",
   "metadata": {},
   "outputs": [],
   "source": [
    "# INTERPRETATION (the correct interpretation depends not on descriptive measures alone, but also on probability distributions and hypothesis \n",
    "# tests, which are explained later at other modules of this course, available at this same Github repository)\n",
    "\n",
    "# At a first glance, all disciplines \"appear\" to be correlated in terms of student grades, when compared in pairs - there's no zero \n",
    "# correlation! - being the positive correlation the one between math and physics (correlation=0.6025), quite high, and the lower negative \n",
    "# correlations between math and literature (correlation=-0.3088) and physics and literature (correlation=-0.2896). Students who are great \n",
    "# in Math tend also to be great in Physics, but worse in Literature. Students who are great in Physics tend also to be great in Math, but \n",
    "# worse in Literature. And, finally, students good in Literature tend to be worse both in Math and Physics. For comparing stats, the pearson \n",
    "# correlation coefficient is better than the covariance as the range of its extreme values is always between -1 and 1... while the covariance\n",
    "# has no limits.\n",
    "\n",
    "# Unfortunately, the interpretation above is partially wrong, when we test the significance of such correlations between disciplines.\n",
    "# As we can observe at another module of this course, if we test the H0 and H1 hypothesis for each pair above - through a Student t \n",
    "# probabilty distribution test, considering a 5% level of significance - and calculate the t statistic for each pearson correlation \n",
    "# coefficient value above, we will see that only the first correlation is significant - between math/physics - but not the other two - \n",
    "# math/literature and physics/literature. You can verify that at the Hypothesis Test module, where we get back to this example, in order \n",
    "# to do just that. This means that we can extrapolate to the population our sample results for the pearson correlation coefficient only \n",
    "# regarding the math/physics disciplines, with a level of significance (alfa) of 5%. But we can't do the same for the other pairs, \n",
    "# considering that same alfa of 5%. In other words, extrapolating to the general population, we can say that math and physics have a \n",
    "# statistically significant correlation regarding student grades, but math and literature or physics and literature are NOT statistically \n",
    "# correlated, if considered a significance level of 5%. For more, check out the Hypothesis Test module at this same Github repository.\n",
    "\n",
    "# That being said, we now may have in mind that it is not sufficient to calculate descriptive measures between variables, either \n",
    "# qualitative or quantitative (discrete or continuous), at mono or bivariable analysis. We must perform hypothesis tests, based on \n",
    "# adequate probability distributions, and calculate other statistics, in order to quantify and compare the significance between such \n",
    "# descriptive measures' results, either in our own sample or between our sample and the population in general (e.g. the whole considerable \n",
    "# population for an event or the whole historical data regarding some production line, etc.). We can't predict if the differences we find \n",
    "# only at descriptive measures (numerically) are actually significant in reality without hypothesis tests analysed at respective \n",
    "# probability distributions of such events. We can't apply our sample results to the real world without analysing their significance."
   ]
  },
  {
   "cell_type": "code",
   "execution_count": 9,
   "id": "a4fff7b9-779f-4cad-b12d-0733ebc27c9f",
   "metadata": {},
   "outputs": [],
   "source": [
    "# or:"
   ]
  },
  {
   "cell_type": "code",
   "execution_count": 10,
   "id": "528855f7-9c68-456c-95f7-431e8e4c6978",
   "metadata": {},
   "outputs": [
    {
     "name": "stdout",
     "output_type": "stream",
     "text": [
      "math_physics_sample_covariance_2 = 2.124137931034482\n",
      "math_literature_sample_covariance_2 = -1.087931034482759\n",
      "physics_literature_sample_covariance_2 = -0.8528735632183907\n"
     ]
    }
   ],
   "source": [
    "# calculating covariance directly from two series\n",
    "\n",
    "def calculate_sample_covariance_of_two_disciplines_2(discipline_1_series, discipline_2_series):\n",
    "    return np.cov(discipline_1_series, discipline_2_series, ddof=1)[0][1]\n",
    "\n",
    "math_physics_sample_covariance_2 = calculate_sample_covariance_of_two_disciplines_2(disciplines_grades_dataframe[\"Math\"], disciplines_grades_dataframe[\"Physics\"])\n",
    "print(f\"math_physics_sample_covariance_2 = {math_physics_sample_covariance_2}\")\n",
    "math_literature_sample_covariance_2 = calculate_sample_covariance_of_two_disciplines_2(disciplines_grades_dataframe[\"Math\"], disciplines_grades_dataframe[\"Literature\"])\n",
    "print(f\"math_literature_sample_covariance_2 = {math_literature_sample_covariance_2}\")\n",
    "physics_literature_sample_covariance_2 = calculate_sample_covariance_of_two_disciplines_2(disciplines_grades_dataframe[\"Physics\"], disciplines_grades_dataframe[\"Literature\"])\n",
    "print(f\"physics_literature_sample_covariance_2 = {physics_literature_sample_covariance_2}\")\n",
    "\n",
    "# P.s: the np.cov() method above returns a 2D-matrix representing the covariance as following:\n",
    "# np.cov()[0][0] = cov(a,a), being the auto-covariance of a single 'a' variable\n",
    "# np.cov()[0][1] = cov(a,b), being the bivariate analysis of two variables\n",
    "# np.cov()[1][0] = cov(a,b), being the bivariate analysis of two variables\n",
    "# np.cov()[1][1] = cov(b,b), being the auto-covariance of a single 'b' variable\n",
    "# That's why in the example above we take the np.cov()[a,b] element of the 2D matrix returned, for taking only the result of the variance\n",
    "# for a and b variables (disciplines)."
   ]
  },
  {
   "cell_type": "code",
   "execution_count": 11,
   "id": "d8c6f4bf-9630-4ac6-a535-baa8f42a4836",
   "metadata": {},
   "outputs": [
    {
     "name": "stdout",
     "output_type": "stream",
     "text": [
      "math_physics_sample_pearson_correlation_coefficient_2 = 0.6025321124160095\n",
      "math_literature_sample_pearson_correlation_coefficient_2 = -0.30878277832686235\n",
      "physics_literature_sample_pearson_correlation_coefficient_2 = -0.28956102521926375\n"
     ]
    }
   ],
   "source": [
    "# calculating pearson correlation coefficient directly from two series\n",
    "\n",
    "def calculate_sample_pearson_correlation_coefficient_of_two_disciplines_2(discipline_1_series, discipline_2_series):\n",
    "    return np.corrcoef(discipline_1_series, discipline_2_series)[0][1]\n",
    "\n",
    "math_physics_sample_pearson_correlation_coefficient_2 = calculate_sample_pearson_correlation_coefficient_of_two_disciplines_2(disciplines_grades_dataframe[\"Math\"], disciplines_grades_dataframe[\"Physics\"])\n",
    "print(f\"math_physics_sample_pearson_correlation_coefficient_2 = {math_physics_sample_pearson_correlation_coefficient_2}\")\n",
    "math_literature_sample_pearson_correlation_coefficient_2 = calculate_sample_pearson_correlation_coefficient_of_two_disciplines_2(disciplines_grades_dataframe[\"Math\"], disciplines_grades_dataframe[\"Literature\"])\n",
    "print(f\"math_literature_sample_pearson_correlation_coefficient_2 = {math_literature_sample_pearson_correlation_coefficient_2}\")\n",
    "physics_literature_sample_pearson_correlation_coefficient_2 = calculate_sample_pearson_correlation_coefficient_of_two_disciplines_2(disciplines_grades_dataframe[\"Physics\"], disciplines_grades_dataframe[\"Literature\"])\n",
    "print(f\"physics_literature_sample_pearson_correlation_coefficient_2 = {physics_literature_sample_pearson_correlation_coefficient_2}\")\n",
    "\n",
    "# P.s: the same about the 2D matrix return for the np.cov() applies for np.corrcoef(), that's why we return only the [0][1] position of\n",
    "# the resulting 2D-matrix, as we want the value for corrcoef(a,b)\n",
    "\n",
    "# P.s: even for sample pearson_correlation_coefficients you don't have to set ddof to 1 (it is deprecated) for the np.corrcoef() method"
   ]
  },
  {
   "cell_type": "code",
   "execution_count": null,
   "id": "61d4090a-1a0e-41b2-a699-6cfe4e9b841e",
   "metadata": {},
   "outputs": [],
   "source": []
  }
 ],
 "metadata": {
  "kernelspec": {
   "display_name": "Python 3 (ipykernel)",
   "language": "python",
   "name": "python3"
  },
  "language_info": {
   "codemirror_mode": {
    "name": "ipython",
    "version": 3
   },
   "file_extension": ".py",
   "mimetype": "text/x-python",
   "name": "python",
   "nbconvert_exporter": "python",
   "pygments_lexer": "ipython3",
   "version": "3.10.12"
  }
 },
 "nbformat": 4,
 "nbformat_minor": 5
}
