{
 "cells": [
  {
   "cell_type": "markdown",
   "id": "f18e31c0-e87f-4be9-ab18-212e3cbe8bd2",
   "metadata": {},
   "source": [
    "## This is an example of how to proceed bivariate analysis for qualitative data using chi-square test, with Python, Pandas, NumPy and Matplotlib"
   ]
  },
  {
   "cell_type": "code",
   "execution_count": 597,
   "id": "c5fedcab-dc4d-45ef-b2ff-015fa6d7c856",
   "metadata": {},
   "outputs": [],
   "source": [
    "# importing libs and setting default plot style\n",
    "%matplotlib inline\n",
    "import matplotlib.pyplot as plt\n",
    "plt.style.use(\"dark_background\")\n",
    "import pandas as pd\n",
    "import numpy as np\n",
    "from scipy import stats"
   ]
  },
  {
   "cell_type": "code",
   "execution_count": null,
   "id": "de250349-9fc7-4ec9-ba3b-1c0c4c1d7590",
   "metadata": {},
   "outputs": [],
   "source": []
  },
  {
   "cell_type": "code",
   "execution_count": 598,
   "id": "16e10e36-3649-4bb6-a375-905862a2230a",
   "metadata": {},
   "outputs": [
    {
     "name": "stdout",
     "output_type": "stream",
     "text": [
      "    COMPANY_NAME CUST_SATISFACTION\n",
      "0              A               LOW\n",
      "1              A               LOW\n",
      "2              A               LOW\n",
      "3              A               LOW\n",
      "4              A               LOW\n",
      "..           ...               ...\n",
      "195            C            MEDIUM\n",
      "196            C              HIGH\n",
      "197            C              HIGH\n",
      "198            C              HIGH\n",
      "199            C              HIGH\n",
      "\n",
      "[200 rows x 2 columns]\n"
     ]
    }
   ],
   "source": [
    "# Case: how users of a certain company evaluate the company service for customers - do specific companies relate (are associated) to \n",
    "# evaluation results or is the distribution of qualification results equal or randomly applied to all companies, irrespectively ?\n",
    "\n",
    "# getting sample survey data from .csv file\n",
    "satisfaction_dataframe = pd.read_csv(\"satisfaction.csv\")\n",
    "from pandas import option_context\n",
    "with option_context('display.max_rows', 10):\n",
    "    print(satisfaction_dataframe)"
   ]
  },
  {
   "cell_type": "code",
   "execution_count": 599,
   "id": "46b11b19-291c-4234-8b2e-e4f4cabeb4ba",
   "metadata": {},
   "outputs": [
    {
     "name": "stdout",
     "output_type": "stream",
     "text": [
      "Table: OBSERVED ABSOLUTE FREQUENCIES\n"
     ]
    },
    {
     "data": {
      "text/html": [
       "<div>\n",
       "<style scoped>\n",
       "    .dataframe tbody tr th:only-of-type {\n",
       "        vertical-align: middle;\n",
       "    }\n",
       "\n",
       "    .dataframe tbody tr th {\n",
       "        vertical-align: top;\n",
       "    }\n",
       "\n",
       "    .dataframe thead th {\n",
       "        text-align: right;\n",
       "    }\n",
       "</style>\n",
       "<table border=\"1\" class=\"dataframe\">\n",
       "  <thead>\n",
       "    <tr style=\"text-align: right;\">\n",
       "      <th>CUST_SATISFACTION</th>\n",
       "      <th>LOW</th>\n",
       "      <th>MEDIUM</th>\n",
       "      <th>HIGH</th>\n",
       "      <th>TOTAL</th>\n",
       "    </tr>\n",
       "    <tr>\n",
       "      <th>COMPANY_NAME</th>\n",
       "      <th></th>\n",
       "      <th></th>\n",
       "      <th></th>\n",
       "      <th></th>\n",
       "    </tr>\n",
       "  </thead>\n",
       "  <tbody>\n",
       "    <tr>\n",
       "      <th>A</th>\n",
       "      <td>40</td>\n",
       "      <td>16</td>\n",
       "      <td>12</td>\n",
       "      <td>68</td>\n",
       "    </tr>\n",
       "    <tr>\n",
       "      <th>B</th>\n",
       "      <td>32</td>\n",
       "      <td>24</td>\n",
       "      <td>16</td>\n",
       "      <td>72</td>\n",
       "    </tr>\n",
       "    <tr>\n",
       "      <th>C</th>\n",
       "      <td>24</td>\n",
       "      <td>32</td>\n",
       "      <td>4</td>\n",
       "      <td>60</td>\n",
       "    </tr>\n",
       "    <tr>\n",
       "      <th>TOTAL</th>\n",
       "      <td>96</td>\n",
       "      <td>72</td>\n",
       "      <td>32</td>\n",
       "      <td>200</td>\n",
       "    </tr>\n",
       "  </tbody>\n",
       "</table>\n",
       "</div>"
      ],
      "text/plain": [
       "CUST_SATISFACTION  LOW  MEDIUM  HIGH  TOTAL\n",
       "COMPANY_NAME                               \n",
       "A                   40      16    12     68\n",
       "B                   32      24    16     72\n",
       "C                   24      32     4     60\n",
       "TOTAL               96      72    32    200"
      ]
     },
     "execution_count": 599,
     "metadata": {},
     "output_type": "execute_result"
    }
   ],
   "source": [
    "# creating a Pandas Dataframe with the sample data - a two-variable frequence distribution table, also know as contingency table or \n",
    "# cross tabulation - observed absolute frequencies\n",
    "# reordering columns sequence\n",
    "print(\"Table: OBSERVED ABSOLUTE FREQUENCIES\")\n",
    "observed_absolute_freq_dataframe = pd.crosstab(satisfaction_dataframe[\"COMPANY_NAME\"], satisfaction_dataframe[\"CUST_SATISFACTION\"], \n",
    "                                               margins=True, margins_name=\"TOTAL\").reindex([\"A\",\"B\",\"C\", \"TOTAL\"])[[\"LOW\",\"MEDIUM\",\n",
    "                                                                                                                    \"HIGH\",\"TOTAL\"]]\n",
    "observed_absolute_freq_dataframe"
   ]
  },
  {
   "cell_type": "code",
   "execution_count": 600,
   "id": "24a58216-1bfd-47f2-a8e0-b33d8c3d0cb4",
   "metadata": {},
   "outputs": [
    {
     "name": "stdout",
     "output_type": "stream",
     "text": [
      "TOTAL_A = 68, TOTAL_B = 72, TOTAL_C = 60, TOTAL_LOW = 96, TOTAL_MEDIUM = 72, TOTAL_HIGH = 32, TOTAL = 200\n"
     ]
    }
   ],
   "source": [
    "# getting individual totals for later calculating expected absolute frequencies\n",
    "TOTAL_A = observed_absolute_freq_dataframe[\"TOTAL\"][\"A\"]\n",
    "TOTAL_B = observed_absolute_freq_dataframe[\"TOTAL\"][\"B\"]\n",
    "TOTAL_C = observed_absolute_freq_dataframe[\"TOTAL\"][\"C\"]\n",
    "TOTAL_LOW = observed_absolute_freq_dataframe[\"LOW\"][\"TOTAL\"]\n",
    "TOTAL_MEDIUM = observed_absolute_freq_dataframe[\"MEDIUM\"][\"TOTAL\"]\n",
    "TOTAL_HIGH = observed_absolute_freq_dataframe[\"HIGH\"][\"TOTAL\"]\n",
    "TOTAL = observed_absolute_freq_dataframe[\"TOTAL\"][\"TOTAL\"]\n",
    "print(f\"TOTAL_A = {TOTAL_A}, TOTAL_B = {TOTAL_B}, TOTAL_C = {TOTAL_C}, TOTAL_LOW = {TOTAL_LOW}, TOTAL_MEDIUM = {TOTAL_MEDIUM}, TOTAL_HIGH = {TOTAL_HIGH}, TOTAL = {TOTAL}\")"
   ]
  },
  {
   "cell_type": "code",
   "execution_count": 601,
   "id": "78935ae8-bd64-4f9e-acba-281613782c49",
   "metadata": {},
   "outputs": [],
   "source": [
    "# creating aux methods to reset values and set types when copying dataframe structure to another dataframe and thus avoid future warnings\n",
    "def reset_dataframe_cells_values_to_nan(my_dataframe):\n",
    "    for column_name in my_dataframe.columns:\n",
    "        for index_name in my_dataframe.index:\n",
    "            my_dataframe[column_name][index_name] = np.nan\n",
    "            \n",
    "def set_type_to_all_cells_at_dataframe(my_dataframe, my_type):\n",
    "    for column_name in my_dataframe.columns:\n",
    "        for index_name in my_dataframe.index:\n",
    "            my_dataframe[column_name][index_name].astype(my_type)\n",
    "\n",
    "# disable warnings regarding chained assigments for when resetting cell values later (no reference to the original df needed)\n",
    "pd.options.mode.chained_assignment = None  # default='warn'"
   ]
  },
  {
   "cell_type": "code",
   "execution_count": 602,
   "id": "e5d752a2-b19f-466e-8d8d-b3cbe6ce8797",
   "metadata": {},
   "outputs": [
    {
     "name": "stdout",
     "output_type": "stream",
     "text": [
      "Table: EXPECTED ABSOLUTE FREQUENCIES\n"
     ]
    },
    {
     "data": {
      "text/html": [
       "<div>\n",
       "<style scoped>\n",
       "    .dataframe tbody tr th:only-of-type {\n",
       "        vertical-align: middle;\n",
       "    }\n",
       "\n",
       "    .dataframe tbody tr th {\n",
       "        vertical-align: top;\n",
       "    }\n",
       "\n",
       "    .dataframe thead th {\n",
       "        text-align: right;\n",
       "    }\n",
       "</style>\n",
       "<table border=\"1\" class=\"dataframe\">\n",
       "  <thead>\n",
       "    <tr style=\"text-align: right;\">\n",
       "      <th>CUST_SATISFACTION</th>\n",
       "      <th>LOW</th>\n",
       "      <th>MEDIUM</th>\n",
       "      <th>HIGH</th>\n",
       "    </tr>\n",
       "    <tr>\n",
       "      <th>COMPANY_NAME</th>\n",
       "      <th></th>\n",
       "      <th></th>\n",
       "      <th></th>\n",
       "    </tr>\n",
       "  </thead>\n",
       "  <tbody>\n",
       "    <tr>\n",
       "      <th>A</th>\n",
       "      <td>32.64</td>\n",
       "      <td>24.48</td>\n",
       "      <td>10.88</td>\n",
       "    </tr>\n",
       "    <tr>\n",
       "      <th>B</th>\n",
       "      <td>34.56</td>\n",
       "      <td>25.92</td>\n",
       "      <td>11.52</td>\n",
       "    </tr>\n",
       "    <tr>\n",
       "      <th>C</th>\n",
       "      <td>28.80</td>\n",
       "      <td>21.60</td>\n",
       "      <td>9.60</td>\n",
       "    </tr>\n",
       "  </tbody>\n",
       "</table>\n",
       "</div>"
      ],
      "text/plain": [
       "CUST_SATISFACTION    LOW  MEDIUM   HIGH\n",
       "COMPANY_NAME                           \n",
       "A                  32.64   24.48  10.88\n",
       "B                  34.56   25.92  11.52\n",
       "C                  28.80   21.60   9.60"
      ]
     },
     "execution_count": 602,
     "metadata": {},
     "output_type": "execute_result"
    }
   ],
   "source": [
    "# creating an expected absolute frequencies dataframe from the observed frequencies dataframe template\n",
    "# removing the totals (column and row)\n",
    "# resetting values to NaN and float64 for avoiding warnings when overriding values\n",
    "# calculating expected absolute frequencies and setting them up at the expected_absolute_freq_dataframe\n",
    "expected_absolute_freq_dataframe = observed_absolute_freq_dataframe.copy()\n",
    "if(\"TOTAL\" in expected_absolute_freq_dataframe.columns):\n",
    "    expected_absolute_freq_dataframe.drop(\"TOTAL\",axis=1,inplace=True)    \n",
    "if(\"TOTAL\" in expected_absolute_freq_dataframe.index):\n",
    "    expected_absolute_freq_dataframe.drop(\"TOTAL\",axis=0,inplace=True)\n",
    "reset_dataframe_cells_values_to_nan(expected_absolute_freq_dataframe)\n",
    "set_type_to_all_cells_at_dataframe(expected_absolute_freq_dataframe, \"float64\")\n",
    "\n",
    "expected_absolute_freq_dataframe[\"LOW\"][\"A\"] = TOTAL_A*TOTAL_LOW/TOTAL\n",
    "expected_absolute_freq_dataframe[\"LOW\"][\"B\"] = TOTAL_B*TOTAL_LOW/TOTAL\n",
    "expected_absolute_freq_dataframe[\"LOW\"][\"C\"] = TOTAL_C*TOTAL_LOW/TOTAL\n",
    "expected_absolute_freq_dataframe[\"MEDIUM\"][\"A\"] = TOTAL_A*TOTAL_MEDIUM/TOTAL\n",
    "expected_absolute_freq_dataframe[\"MEDIUM\"][\"B\"] = TOTAL_B*TOTAL_MEDIUM/TOTAL\n",
    "expected_absolute_freq_dataframe[\"MEDIUM\"][\"C\"] = TOTAL_C*TOTAL_MEDIUM/TOTAL\n",
    "expected_absolute_freq_dataframe[\"HIGH\"][\"A\"] = TOTAL_A*TOTAL_HIGH/TOTAL\n",
    "expected_absolute_freq_dataframe[\"HIGH\"][\"B\"] = TOTAL_B*TOTAL_HIGH/TOTAL\n",
    "expected_absolute_freq_dataframe[\"HIGH\"][\"C\"] = TOTAL_C*TOTAL_HIGH/TOTAL\n",
    "\n",
    "print(\"Table: EXPECTED ABSOLUTE FREQUENCIES\")\n",
    "expected_absolute_freq_dataframe"
   ]
  },
  {
   "cell_type": "code",
   "execution_count": 603,
   "id": "d3c954c5-4b89-48be-96cd-33b289727583",
   "metadata": {},
   "outputs": [
    {
     "name": "stdout",
     "output_type": "stream",
     "text": [
      "Table: RESIDUALS FREQUENCIES (OBSERVED - EXPECTED)\n"
     ]
    },
    {
     "data": {
      "text/html": [
       "<div>\n",
       "<style scoped>\n",
       "    .dataframe tbody tr th:only-of-type {\n",
       "        vertical-align: middle;\n",
       "    }\n",
       "\n",
       "    .dataframe tbody tr th {\n",
       "        vertical-align: top;\n",
       "    }\n",
       "\n",
       "    .dataframe thead th {\n",
       "        text-align: right;\n",
       "    }\n",
       "</style>\n",
       "<table border=\"1\" class=\"dataframe\">\n",
       "  <thead>\n",
       "    <tr style=\"text-align: right;\">\n",
       "      <th>CUST_SATISFACTION</th>\n",
       "      <th>LOW</th>\n",
       "      <th>MEDIUM</th>\n",
       "      <th>HIGH</th>\n",
       "    </tr>\n",
       "    <tr>\n",
       "      <th>COMPANY_NAME</th>\n",
       "      <th></th>\n",
       "      <th></th>\n",
       "      <th></th>\n",
       "    </tr>\n",
       "  </thead>\n",
       "  <tbody>\n",
       "    <tr>\n",
       "      <th>A</th>\n",
       "      <td>7.36</td>\n",
       "      <td>-8.48</td>\n",
       "      <td>1.12</td>\n",
       "    </tr>\n",
       "    <tr>\n",
       "      <th>B</th>\n",
       "      <td>-2.56</td>\n",
       "      <td>-1.92</td>\n",
       "      <td>4.48</td>\n",
       "    </tr>\n",
       "    <tr>\n",
       "      <th>C</th>\n",
       "      <td>-4.80</td>\n",
       "      <td>10.40</td>\n",
       "      <td>-5.60</td>\n",
       "    </tr>\n",
       "  </tbody>\n",
       "</table>\n",
       "</div>"
      ],
      "text/plain": [
       "CUST_SATISFACTION   LOW  MEDIUM  HIGH\n",
       "COMPANY_NAME                         \n",
       "A                  7.36   -8.48  1.12\n",
       "B                 -2.56   -1.92  4.48\n",
       "C                 -4.80   10.40 -5.60"
      ]
     },
     "execution_count": 603,
     "metadata": {},
     "output_type": "execute_result"
    }
   ],
   "source": [
    "# creating a residuals dataframe from the expected frequencies dataframe template\n",
    "# calculating residuals (observed minus expected values) and setting them up to the residuals_dataframe\n",
    "\n",
    "residuals_dataframe = expected_absolute_freq_dataframe.copy()\n",
    "\n",
    "residuals_dataframe[\"LOW\"][\"A\"] = observed_absolute_freq_dataframe[\"LOW\"][\"A\"]-expected_absolute_freq_dataframe[\"LOW\"][\"A\"]\n",
    "residuals_dataframe[\"LOW\"][\"B\"] = observed_absolute_freq_dataframe[\"LOW\"][\"B\"]-expected_absolute_freq_dataframe[\"LOW\"][\"B\"]\n",
    "residuals_dataframe[\"LOW\"][\"C\"] = observed_absolute_freq_dataframe[\"LOW\"][\"C\"]-expected_absolute_freq_dataframe[\"LOW\"][\"C\"]\n",
    "residuals_dataframe[\"MEDIUM\"][\"A\"] = observed_absolute_freq_dataframe[\"MEDIUM\"][\"A\"]-expected_absolute_freq_dataframe[\"MEDIUM\"][\"A\"]\n",
    "residuals_dataframe[\"MEDIUM\"][\"B\"] = observed_absolute_freq_dataframe[\"MEDIUM\"][\"B\"]-expected_absolute_freq_dataframe[\"MEDIUM\"][\"B\"]\n",
    "residuals_dataframe[\"MEDIUM\"][\"C\"] = observed_absolute_freq_dataframe[\"MEDIUM\"][\"C\"]-expected_absolute_freq_dataframe[\"MEDIUM\"][\"C\"]\n",
    "residuals_dataframe[\"HIGH\"][\"A\"] = observed_absolute_freq_dataframe[\"HIGH\"][\"A\"]-expected_absolute_freq_dataframe[\"HIGH\"][\"A\"]\n",
    "residuals_dataframe[\"HIGH\"][\"B\"] = observed_absolute_freq_dataframe[\"HIGH\"][\"B\"]-expected_absolute_freq_dataframe[\"HIGH\"][\"B\"]\n",
    "residuals_dataframe[\"HIGH\"][\"C\"] = observed_absolute_freq_dataframe[\"HIGH\"][\"C\"]-expected_absolute_freq_dataframe[\"HIGH\"][\"C\"]\n",
    "\n",
    "print(\"Table: RESIDUALS FREQUENCIES (OBSERVED - EXPECTED)\")\n",
    "residuals_dataframe"
   ]
  },
  {
   "cell_type": "code",
   "execution_count": 604,
   "id": "b2a415ad-456b-468b-87f5-4e5a3a342c95",
   "metadata": {},
   "outputs": [
    {
     "name": "stdout",
     "output_type": "stream",
     "text": [
      "Table: CHI-SQUARE PARTIAL VALUES\n"
     ]
    },
    {
     "data": {
      "text/html": [
       "<div>\n",
       "<style scoped>\n",
       "    .dataframe tbody tr th:only-of-type {\n",
       "        vertical-align: middle;\n",
       "    }\n",
       "\n",
       "    .dataframe tbody tr th {\n",
       "        vertical-align: top;\n",
       "    }\n",
       "\n",
       "    .dataframe thead th {\n",
       "        text-align: right;\n",
       "    }\n",
       "</style>\n",
       "<table border=\"1\" class=\"dataframe\">\n",
       "  <thead>\n",
       "    <tr style=\"text-align: right;\">\n",
       "      <th>CUST_SATISFACTION</th>\n",
       "      <th>LOW</th>\n",
       "      <th>MEDIUM</th>\n",
       "      <th>HIGH</th>\n",
       "    </tr>\n",
       "    <tr>\n",
       "      <th>COMPANY_NAME</th>\n",
       "      <th></th>\n",
       "      <th></th>\n",
       "      <th></th>\n",
       "    </tr>\n",
       "  </thead>\n",
       "  <tbody>\n",
       "    <tr>\n",
       "      <th>A</th>\n",
       "      <td>1.659608</td>\n",
       "      <td>2.937516</td>\n",
       "      <td>0.115294</td>\n",
       "    </tr>\n",
       "    <tr>\n",
       "      <th>B</th>\n",
       "      <td>0.189630</td>\n",
       "      <td>0.142222</td>\n",
       "      <td>1.742222</td>\n",
       "    </tr>\n",
       "    <tr>\n",
       "      <th>C</th>\n",
       "      <td>0.800000</td>\n",
       "      <td>5.007407</td>\n",
       "      <td>3.266667</td>\n",
       "    </tr>\n",
       "  </tbody>\n",
       "</table>\n",
       "</div>"
      ],
      "text/plain": [
       "CUST_SATISFACTION       LOW    MEDIUM      HIGH\n",
       "COMPANY_NAME                                   \n",
       "A                  1.659608  2.937516  0.115294\n",
       "B                  0.189630  0.142222  1.742222\n",
       "C                  0.800000  5.007407  3.266667"
      ]
     },
     "execution_count": 604,
     "metadata": {},
     "output_type": "execute_result"
    }
   ],
   "source": [
    "# creating a chi-square dataframe from the residuals (or expected) dataframe template\n",
    "# calculating chi-square values (residual^2/expected value) and setting them up to the chi_square_dataframe\n",
    "\n",
    "chi_square_dataframe = residuals_dataframe.copy()\n",
    "\n",
    "chi_square_dataframe[\"LOW\"][\"A\"] = np.square(residuals_dataframe[\"LOW\"][\"A\"])/expected_absolute_freq_dataframe[\"LOW\"][\"A\"]\n",
    "chi_square_dataframe[\"LOW\"][\"B\"] = np.square(residuals_dataframe[\"LOW\"][\"B\"])/expected_absolute_freq_dataframe[\"LOW\"][\"B\"]\n",
    "chi_square_dataframe[\"LOW\"][\"C\"] = np.square(residuals_dataframe[\"LOW\"][\"C\"])/expected_absolute_freq_dataframe[\"LOW\"][\"C\"]\n",
    "chi_square_dataframe[\"MEDIUM\"][\"A\"] = np.square(residuals_dataframe[\"MEDIUM\"][\"A\"])/expected_absolute_freq_dataframe[\"MEDIUM\"][\"A\"]\n",
    "chi_square_dataframe[\"MEDIUM\"][\"B\"] = np.square(residuals_dataframe[\"MEDIUM\"][\"B\"])/expected_absolute_freq_dataframe[\"MEDIUM\"][\"B\"]\n",
    "chi_square_dataframe[\"MEDIUM\"][\"C\"] = np.square(residuals_dataframe[\"MEDIUM\"][\"C\"])/expected_absolute_freq_dataframe[\"MEDIUM\"][\"C\"]\n",
    "chi_square_dataframe[\"HIGH\"][\"A\"] = np.square(residuals_dataframe[\"HIGH\"][\"A\"])/expected_absolute_freq_dataframe[\"HIGH\"][\"A\"]\n",
    "chi_square_dataframe[\"HIGH\"][\"B\"] = np.square(residuals_dataframe[\"HIGH\"][\"B\"])/expected_absolute_freq_dataframe[\"HIGH\"][\"B\"]\n",
    "chi_square_dataframe[\"HIGH\"][\"C\"] = np.square(residuals_dataframe[\"HIGH\"][\"C\"])/expected_absolute_freq_dataframe[\"HIGH\"][\"C\"]\n",
    "\n",
    "print(\"Table: CHI-SQUARE PARTIAL VALUES\")\n",
    "chi_square_dataframe"
   ]
  },
  {
   "cell_type": "code",
   "execution_count": 605,
   "id": "c470077b-f933-4eb5-954d-bc03c99efbf6",
   "metadata": {},
   "outputs": [
    {
     "name": "stdout",
     "output_type": "stream",
     "text": [
      "CHI-SQUARE TOTAL VALUE = 15.861\n"
     ]
    },
    {
     "data": {
      "text/plain": [
       "15.861"
      ]
     },
     "execution_count": 605,
     "metadata": {},
     "output_type": "execute_result"
    }
   ],
   "source": [
    "# calculating total chi-square value (sum of all chi-square cells)\n",
    "chi_square_total = 0\n",
    "for index, row in chi_square_dataframe.iterrows():\n",
    "    chi_square_total += row.sum()\n",
    "print(f\"CHI-SQUARE TOTAL VALUE = {round(chi_square_total,3)}\")\n",
    "round(chi_square_total,3)"
   ]
  },
  {
   "cell_type": "code",
   "execution_count": 606,
   "id": "3a017575-988d-4664-82e5-f1fca8064ba7",
   "metadata": {},
   "outputs": [],
   "source": [
    "# We now need to compare the chi-square total value or the p-value (for the significance level considered) with the critical value \n",
    "# in order to prove or refute the association between the two analysed variables... and that will include also the degrees of freedom\n",
    "# of the chi-square distribution above. So let's calculate all of these..."
   ]
  },
  {
   "cell_type": "code",
   "execution_count": 607,
   "id": "8fde7a64-dc23-45f1-9f81-578b69cb79b7",
   "metadata": {},
   "outputs": [
    {
     "name": "stdout",
     "output_type": "stream",
     "text": [
      "DEGREES OF FREEDOM = 4\n"
     ]
    },
    {
     "data": {
      "text/plain": [
       "4"
      ]
     },
     "execution_count": 607,
     "metadata": {},
     "output_type": "execute_result"
    }
   ],
   "source": [
    "# calculating degrees of freedom, which is the product of (the number of rows minus one) by (the number of columns minus one) => \n",
    "# (i-1)*(j-1) at our contingency table. We have 3 categories of each variable, so, the degrees of freedom is 2*2 = 4. These\n",
    "# do not include the Total row or column\n",
    "degrees_of_freedom = (satisfaction_dataframe[\"COMPANY_NAME\"].unique().size-1)*(satisfaction_dataframe[\"CUST_SATISFACTION\"].unique().size-1)\n",
    "print(f\"DEGREES OF FREEDOM = {degrees_of_freedom}\")\n",
    "degrees_of_freedom"
   ]
  },
  {
   "cell_type": "code",
   "execution_count": 608,
   "id": "e7e5dc88-6667-4b2e-b243-8dff4ff15018",
   "metadata": {},
   "outputs": [
    {
     "name": "stdout",
     "output_type": "stream",
     "text": [
      "CRITICAL VALUE = 9.488\n"
     ]
    },
    {
     "data": {
      "text/plain": [
       "9.488"
      ]
     },
     "execution_count": 608,
     "metadata": {},
     "output_type": "execute_result"
    }
   ],
   "source": [
    "# calculating the critical value for our chi-square distribution and comparing to our total chi-square value\n",
    "# the critical value depends on the significance level desired - e.g. alfa = 5% and the degrees of freedom at our distribution, in\n",
    "# our case, df = 4.\n",
    "\n",
    "critical_value = stats.chi2.ppf(1-.05, df=4)\n",
    "print(f\"CRITICAL VALUE = {round(critical_value,3)}\")\n",
    "round(critical_value,3)"
   ]
  },
  {
   "cell_type": "code",
   "execution_count": 609,
   "id": "e9a34ba3-afc7-4c52-83fd-d5cce686c53d",
   "metadata": {},
   "outputs": [
    {
     "name": "stdout",
     "output_type": "stream",
     "text": [
      "chi_square_total = 15.861 >= critical_value = 9.488\n",
      "H0 rejected. H1 confirmed ! There is a not random association between the company name and customer satisfaction !\n"
     ]
    }
   ],
   "source": [
    "# comparing our total chi-square value with the critical value, we can se, for this use case, that our chi-square value is way above\n",
    "# the critical value, therefore, our two variables (company name and customer satisfaction) are closely related compared to a random \n",
    "# association.\n",
    "\n",
    "print(f\"chi_square_total = {round(chi_square_total,3)} >= critical_value = {round(critical_value,3)}\")\n",
    "print(\"H0 rejected. H1 confirmed ! There is a not random association between the company name and customer satisfaction !\")\n",
    "\n",
    "# H0 is rejected and H1 confirmed. The hypothesis that there is a not random association between the specific company name and the\n",
    "# customer satisfaction regarding its costumer services"
   ]
  },
  {
   "cell_type": "code",
   "execution_count": 610,
   "id": "739b68e5-7317-4f50-ab94-957eb96d4336",
   "metadata": {},
   "outputs": [
    {
     "name": "stdout",
     "output_type": "stream",
     "text": [
      "p_value 0.003 < significance level 0.05\n",
      "H0 rejected. H1 confirmed ! There is a not random association between the company name and customer satisfaction !\n"
     ]
    },
    {
     "data": {
      "text/plain": [
       "0.003"
      ]
     },
     "execution_count": 610,
     "metadata": {},
     "output_type": "execute_result"
    }
   ],
   "source": [
    "# Another way to confirm or reject H0 is to compare, instead of the total chi-square value and the critical value, the p_value with \n",
    "# the significance level, in our case, alfa is 5%. The p_value depends on the chi_square_total and the degrees of freedom.\n",
    "p_value = round(1-stats.chi2.cdf(chi_square_total, degrees_of_freedom),3)\n",
    "print(f\"p_value {round(p_value,4)} < significance level 0.05\")\n",
    "print(\"H0 rejected. H1 confirmed ! There is a not random association between the company name and customer satisfaction !\")\n",
    "p_value\n",
    "\n",
    "# Therefore, as our p_value is <<< than our significance level, that means H0 can be rejected and H1 assumed as valid. And thus, similar\n",
    "# to the analysis above for the total chi-square and the critical value, the two variables in our distribution are definitely related\n",
    "# in a not random fashion."
   ]
  },
  {
   "cell_type": "code",
   "execution_count": 611,
   "id": "77234aa0-9215-4235-94b3-ea213c64d6e4",
   "metadata": {},
   "outputs": [],
   "source": [
    "# or:"
   ]
  },
  {
   "cell_type": "code",
   "execution_count": 612,
   "id": "a35db35c-728f-4a4c-a52a-f96d624941f8",
   "metadata": {},
   "outputs": [
    {
     "data": {
      "text/plain": [
       "array([[40, 16, 12],\n",
       "       [32, 24, 16],\n",
       "       [24, 32,  4]])"
      ]
     },
     "execution_count": 612,
     "metadata": {},
     "output_type": "execute_result"
    }
   ],
   "source": [
    "# we could have used stats chi2_contingency() method to calculate everything above, directly, passing only the observed contingency \n",
    "# table data in a 2D-ndarray:\n",
    "\n",
    "# taking observed_absolute_freq_dataframe data, removing totals and transforming into a 2D-ndarray\n",
    "temp_table = observed_absolute_freq_dataframe.copy()\n",
    "if(\"TOTAL\" in temp_table.columns):\n",
    "    temp_table.drop(\"TOTAL\",axis=1,inplace=True)    \n",
    "if(\"TOTAL\" in temp_table.index):\n",
    "    temp_table.drop(\"TOTAL\",axis=0,inplace=True)\n",
    "my_observed_absolute_freq_ndarray = temp_table.to_numpy()\n",
    "my_observed_absolute_freq_ndarray"
   ]
  },
  {
   "cell_type": "code",
   "execution_count": 613,
   "id": "920b3310-3239-42aa-b053-46e2a239bb2c",
   "metadata": {},
   "outputs": [
    {
     "name": "stdout",
     "output_type": "stream",
     "text": [
      "my_expected_absolute_freq_ndarray =\n",
      "[[32.64 24.48 10.88]\n",
      " [34.56 25.92 11.52]\n",
      " [28.8  21.6   9.6 ]]\n",
      "\n",
      "my_degrees_of_freedom = 4\n",
      "my_alfa = 0.05\n",
      "my_critical_value = 9.487729036781154\n",
      "my_chi_square_total = 15.860566448801741\n",
      "my_p_value = 0.0032120846981537215\n",
      "\n",
      "INTERPRETATION:\n",
      "my_chi_square_total 15.861 >= my_critical_value 9.488\n",
      "H0 rejected. H1 confirmed ! There is a not random association between the company name and customer satisfaction !\n",
      "\n",
      "my_p_value 0.003 < my_alpha 0.05\n",
      "H0 rejected. H1 confirmed ! There is a not random association between the company name and customer satisfaction !\n"
     ]
    }
   ],
   "source": [
    "# getting statistics directly (without the whole process above), by simply passing my_observed_absolute_freq_ndarray data\n",
    "my_chi_square_total, my_p_value, my_degrees_of_freedom, my_expected_absolute_freq_ndarray = stats.chi2_contingency(my_observed_absolute_freq_ndarray)\n",
    "my_alpha = 0.05\n",
    "my_critical_value = stats.chi2.ppf(1-my_alpha, df=my_degrees_of_freedom)\n",
    "\n",
    "print(f\"my_expected_absolute_freq_ndarray =\\n{my_expected_absolute_freq_ndarray}\\n\")\n",
    "print(f\"my_degrees_of_freedom = {my_degrees_of_freedom}\")\n",
    "print(f\"my_alfa = {my_alpha}\")\n",
    "print(f\"my_critical_value = {my_critical_value}\")\n",
    "print(f\"my_chi_square_total = {my_chi_square_total}\")\n",
    "print(f\"my_p_value = {my_p_value}\\n\")\n",
    "\n",
    "# interpreting either by comparing chi-square \n",
    "print(\"INTERPRETATION:\")\n",
    "\n",
    "if my_chi_square_total >= my_critical_value:\n",
    "    print(f\"my_chi_square_total {round(my_chi_square_total,3)} >= my_critical_value {round(my_critical_value,3)}\")\n",
    "    print(\"H0 rejected. H1 confirmed ! There is a not random association between the company name and customer satisfaction !\\n\")\n",
    "else:\n",
    "    print(f\"my_chi_square_total {round(my_chi_square_total,3)} < my_critical_value {round(my_critical_value,3)}\")\n",
    "    print(\"H0 NOT rejected. H1 rejected ! There is NO association between the company name and customer satisfaction !\\n\")\n",
    "\n",
    "# or:\n",
    "\n",
    "if my_p_value <= my_alpha:\n",
    "    print(f\"my_p_value {round(my_p_value,3)} < my_alpha {round(my_alpha,3)}\")\n",
    "    print(\"H0 rejected. H1 confirmed ! There is a not random association between the company name and customer satisfaction !\")\n",
    "else:\n",
    "    print(f\"my_p_value {round(my_p_value,3)} >= my_alpha {round(my_alpha,3)}\")\n",
    "    print(\"H0 NOT rejected. H1 rejected ! There is NO association between the company name and customer satisfaction !\")"
   ]
  },
  {
   "cell_type": "code",
   "execution_count": null,
   "id": "730f7ddf-557a-463a-a9e6-83be7e170986",
   "metadata": {},
   "outputs": [],
   "source": []
  }
 ],
 "metadata": {
  "kernelspec": {
   "display_name": "Python 3 (ipykernel)",
   "language": "python",
   "name": "python3"
  },
  "language_info": {
   "codemirror_mode": {
    "name": "ipython",
    "version": 3
   },
   "file_extension": ".py",
   "mimetype": "text/x-python",
   "name": "python",
   "nbconvert_exporter": "python",
   "pygments_lexer": "ipython3",
   "version": "3.10.12"
  }
 },
 "nbformat": 4,
 "nbformat_minor": 5
}
